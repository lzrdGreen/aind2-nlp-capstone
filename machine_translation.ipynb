{
 "cells": [
  {
   "cell_type": "markdown",
   "metadata": {
    "collapsed": true
   },
   "source": [
    "# Artificial Intelligence Nanodegree\n",
    "## Machine Translation Project\n",
    "In this notebook, sections that end with **'(IMPLEMENTATION)'** in the header indicate that the following blocks of code will require additional functionality which you must provide. Please be sure to read the instructions carefully!\n",
    "\n",
    "## Introduction\n",
    "In this notebook, you will build a deep neural network that functions as part of an end-to-end machine translation pipeline. Your completed pipeline will accept English text as input and return the French translation.\n",
    "\n",
    "- **Preprocess** - You'll convert text to sequence of integers.\n",
    "- **Models** Create models which accepts a sequence of integers as input and returns a probability distribution over possible translations. After learning about the basic types of neural networks that are often used for machine translation, you will engage in your own investigations, to design your own model!\n",
    "- **Prediction** Run the model on English text."
   ]
  },
  {
   "cell_type": "code",
   "execution_count": 2,
   "metadata": {},
   "outputs": [],
   "source": [
    "%load_ext autoreload\n",
    "%aimport helper, tests\n",
    "%autoreload 1"
   ]
  },
  {
   "cell_type": "code",
   "execution_count": 1,
   "metadata": {},
   "outputs": [
    {
     "name": "stderr",
     "output_type": "stream",
     "text": [
      "c:\\users\\user\\anaconda3\\envs\\ai\\lib\\site-packages\\h5py\\__init__.py:36: FutureWarning: Conversion of the second argument of issubdtype from `float` to `np.floating` is deprecated. In future, it will be treated as `np.float64 == np.dtype(float).type`.\n",
      "  from ._conv import register_converters as _register_converters\n",
      "Using TensorFlow backend.\n"
     ]
    }
   ],
   "source": [
    "import collections\n",
    "\n",
    "import helper\n",
    "import numpy as np\n",
    "import project_tests as tests\n",
    "\n",
    "from keras.preprocessing.text import Tokenizer\n",
    "from keras.preprocessing.sequence import pad_sequences\n",
    "from keras.models import Model\n",
    "from keras.layers import GRU, Input, Dense, TimeDistributed, Activation, RepeatVector, Bidirectional\n",
    "from keras.layers.embeddings import Embedding\n",
    "from keras.optimizers import Adam\n",
    "from keras.losses import sparse_categorical_crossentropy"
   ]
  },
  {
   "cell_type": "markdown",
   "metadata": {},
   "source": [
    "### Verify access to the GPU\n",
    "The following test applies only if you expect to be using a GPU, e.g., while running in a Udacity Workspace or using an AWS instance with GPU support. Run the next cell, and verify that the device_type is \"GPU\".\n",
    "- If the device is not GPU & you are running from a Udacity Workspace, then save your workspace with the icon at the top, then click \"enable\" at the bottom of the workspace.\n",
    "- If the device is not GPU & you are running from an AWS instance, then refer to the cloud computing instructions in the classroom to verify your setup steps."
   ]
  },
  {
   "cell_type": "code",
   "execution_count": 3,
   "metadata": {},
   "outputs": [
    {
     "name": "stdout",
     "output_type": "stream",
     "text": [
      "[name: \"/cpu:0\"\n",
      "device_type: \"CPU\"\n",
      "memory_limit: 268435456\n",
      "locality {\n",
      "}\n",
      "incarnation: 17299480425120927611\n",
      ", name: \"/gpu:0\"\n",
      "device_type: \"GPU\"\n",
      "memory_limit: 6755621274\n",
      "locality {\n",
      "  bus_id: 1\n",
      "}\n",
      "incarnation: 8816357290581445476\n",
      "physical_device_desc: \"device: 0, name: GeForce GTX 1080 with Max-Q Design, pci bus id: 0000:01:00.0\"\n",
      "]\n"
     ]
    }
   ],
   "source": [
    "from tensorflow.python.client import device_lib\n",
    "print(device_lib.list_local_devices())"
   ]
  },
  {
   "cell_type": "markdown",
   "metadata": {},
   "source": [
    "## Dataset\n",
    "We begin by investigating the dataset that will be used to train and evaluate your pipeline.  The most common datasets used for machine translation are from [WMT](http://www.statmt.org/).  However, that will take a long time to train a neural network on.  We'll be using a dataset we created for this project that contains a small vocabulary.  You'll be able to train your model in a reasonable time with this dataset.\n",
    "### Load Data\n",
    "The data is located in `data/small_vocab_en` and `data/small_vocab_fr`. The `small_vocab_en` file contains English sentences with their French translations in the `small_vocab_fr` file. Load the English and French data from these files from running the cell below."
   ]
  },
  {
   "cell_type": "code",
   "execution_count": 4,
   "metadata": {},
   "outputs": [
    {
     "name": "stdout",
     "output_type": "stream",
     "text": [
      "Dataset Loaded\n"
     ]
    }
   ],
   "source": [
    "# Load English data\n",
    "english_sentences = helper.load_data('data/small_vocab_en')\n",
    "# Load French data\n",
    "french_sentences = helper.load_data('data/small_vocab_fr')\n",
    "\n",
    "print('Dataset Loaded')"
   ]
  },
  {
   "cell_type": "markdown",
   "metadata": {},
   "source": [
    "### Files\n",
    "Each line in `small_vocab_en` contains an English sentence with the respective translation in each line of `small_vocab_fr`.  View the first two lines from each file."
   ]
  },
  {
   "cell_type": "code",
   "execution_count": 5,
   "metadata": {},
   "outputs": [
    {
     "name": "stdout",
     "output_type": "stream",
     "text": [
      "small_vocab_en Line 1:  new jersey is sometimes quiet during autumn , and it is snowy in april .\n",
      "small_vocab_fr Line 1:  new jersey est parfois calme pendant l' automne , et il est neigeux en avril .\n",
      "small_vocab_en Line 2:  the united states is usually chilly during july , and it is usually freezing in november .\n",
      "small_vocab_fr Line 2:  les Ã©tats-unis est gÃ©nÃ©ralement froid en juillet , et il gÃ¨le habituellement en novembre .\n"
     ]
    }
   ],
   "source": [
    "for sample_i in range(2):\n",
    "    print('small_vocab_en Line {}:  {}'.format(sample_i + 1, english_sentences[sample_i]))\n",
    "    print('small_vocab_fr Line {}:  {}'.format(sample_i + 1, french_sentences[sample_i]))"
   ]
  },
  {
   "cell_type": "markdown",
   "metadata": {},
   "source": [
    "From looking at the sentences, you can see they have been preprocessed already.  The puncuations have been delimited using spaces. All the text have been converted to lowercase.  This should save you some time, but the text requires more preprocessing.\n",
    "### Vocabulary\n",
    "The complexity of the problem is determined by the complexity of the vocabulary.  A more complex vocabulary is a more complex problem.  Let's look at the complexity of the dataset we'll be working with."
   ]
  },
  {
   "cell_type": "code",
   "execution_count": 6,
   "metadata": {},
   "outputs": [
    {
     "name": "stdout",
     "output_type": "stream",
     "text": [
      "1823250 English words.\n",
      "227 unique English words.\n",
      "10 Most common words in the English dataset:\n",
      "\"is\" \",\" \".\" \"in\" \"it\" \"during\" \"the\" \"but\" \"and\" \"sometimes\"\n",
      "\n",
      "1961295 French words.\n",
      "355 unique French words.\n",
      "10 Most common words in the French dataset:\n",
      "\"est\" \".\" \",\" \"en\" \"il\" \"les\" \"mais\" \"et\" \"la\" \"parfois\"\n"
     ]
    }
   ],
   "source": [
    "english_words_counter = collections.Counter([word for sentence in english_sentences for word in sentence.split()])\n",
    "french_words_counter = collections.Counter([word for sentence in french_sentences for word in sentence.split()])\n",
    "\n",
    "print('{} English words.'.format(len([word for sentence in english_sentences for word in sentence.split()])))\n",
    "print('{} unique English words.'.format(len(english_words_counter)))\n",
    "print('10 Most common words in the English dataset:')\n",
    "print('\"' + '\" \"'.join(list(zip(*english_words_counter.most_common(10)))[0]) + '\"')\n",
    "print()\n",
    "print('{} French words.'.format(len([word for sentence in french_sentences for word in sentence.split()])))\n",
    "print('{} unique French words.'.format(len(french_words_counter)))\n",
    "print('10 Most common words in the French dataset:')\n",
    "print('\"' + '\" \"'.join(list(zip(*french_words_counter.most_common(10)))[0]) + '\"')"
   ]
  },
  {
   "cell_type": "markdown",
   "metadata": {},
   "source": [
    "For comparison, _Alice's Adventures in Wonderland_ contains 2,766 unique words of a total of 15,500 words.\n",
    "## Preprocess\n",
    "For this project, you won't use text data as input to your model. Instead, you'll convert the text into sequences of integers using the following preprocess methods:\n",
    "1. Tokenize the words into ids\n",
    "2. Add padding to make all the sequences the same length.\n",
    "\n",
    "Time to start preprocessing the data...\n",
    "### Tokenize (IMPLEMENTATION)\n",
    "For a neural network to predict on text data, it first has to be turned into data it can understand. Text data like \"dog\" is a sequence of ASCII character encodings.  Since a neural network is a series of multiplication and addition operations, the input data needs to be number(s).\n",
    "\n",
    "We can turn each character into a number or each word into a number.  These are called character and word ids, respectively.  Character ids are used for character level models that generate text predictions for each character.  A word level model uses word ids that generate text predictions for each word.  Word level models tend to learn better, since they are lower in complexity, so we'll use those.\n",
    "\n",
    "Turn each sentence into a sequence of words ids using Keras's [`Tokenizer`](https://keras.io/preprocessing/text/#tokenizer) function. Use this function to tokenize `english_sentences` and `french_sentences` in the cell below.\n",
    "\n",
    "Running the cell will run `tokenize` on sample data and show output for debugging."
   ]
  },
  {
   "cell_type": "code",
   "execution_count": 7,
   "metadata": {},
   "outputs": [],
   "source": [
    "def tokenize(x):\n",
    "    \"\"\"\n",
    "    Tokenize x\n",
    "    :param x: List of sentences/strings to be tokenized\n",
    "    :return: Tuple of (tokenized x data, tokenizer used to tokenize x)\n",
    "    \"\"\"\n",
    "    # create it\n",
    "    t = Tokenizer()\n",
    "    # fit it\n",
    "    t.fit_on_texts(x)\n",
    "    return t.texts_to_sequences(x), t\n",
    "#tests.test_tokenize(tokenize)"
   ]
  },
  {
   "cell_type": "markdown",
   "metadata": {},
   "source": [
    "I test tokenize function this way, otherwise it spits out an error (I am not sure why):"
   ]
  },
  {
   "cell_type": "code",
   "execution_count": 8,
   "metadata": {},
   "outputs": [],
   "source": [
    "from project_tests import test_tokenize, test_pad\n",
    "test_tokenize(tokenize)"
   ]
  },
  {
   "cell_type": "code",
   "execution_count": 9,
   "metadata": {},
   "outputs": [
    {
     "name": "stdout",
     "output_type": "stream",
     "text": [
      "{'prize': 17, 'this': 18, 'won': 16, 'short': 20, 'jumps': 6, 'a': 3, 'over': 7, 'my': 12, 'lexicography': 15, 'dog': 9, 'of': 14, 'fox': 5, 'brown': 4, 'the': 1, 'is': 19, 'sentence': 21, 'jove': 11, 'quick': 2, 'study': 13, 'lazy': 8, 'by': 10}\n",
      "\n",
      "Sequence 1 in x\n",
      "  Input:  The quick brown fox jumps over the lazy dog .\n",
      "  Output: [1, 2, 4, 5, 6, 7, 1, 8, 9]\n",
      "Sequence 2 in x\n",
      "  Input:  By Jove , my quick study of lexicography won a prize .\n",
      "  Output: [10, 11, 12, 2, 13, 14, 15, 16, 3, 17]\n",
      "Sequence 3 in x\n",
      "  Input:  This is a short sentence .\n",
      "  Output: [18, 19, 3, 20, 21]\n"
     ]
    }
   ],
   "source": [
    "# Tokenize Example output\n",
    "text_sentences = [\n",
    "    'The quick brown fox jumps over the lazy dog .',\n",
    "    'By Jove , my quick study of lexicography won a prize .',\n",
    "    'This is a short sentence .']\n",
    "text_tokenized, text_tokenizer = tokenize(text_sentences)\n",
    "print(text_tokenizer.word_index)\n",
    "print()\n",
    "for sample_i, (sent, token_sent) in enumerate(zip(text_sentences, text_tokenized)):\n",
    "    print('Sequence {} in x'.format(sample_i + 1))\n",
    "    print('  Input:  {}'.format(sent))\n",
    "    print('  Output: {}'.format(token_sent))"
   ]
  },
  {
   "cell_type": "markdown",
   "metadata": {},
   "source": [
    "### Padding (IMPLEMENTATION)\n",
    "When batching the sequence of word ids together, each sequence needs to be the same length.  Since sentences are dynamic in length, we can add padding to the end of the sequences to make them the same length.\n",
    "\n",
    "Make sure all the English sequences have the same length and all the French sequences have the same length by adding padding to the **end** of each sequence using Keras's [`pad_sequences`](https://keras.io/preprocessing/sequence/#pad_sequences) function."
   ]
  },
  {
   "cell_type": "code",
   "execution_count": 10,
   "metadata": {},
   "outputs": [],
   "source": [
    "def pad(x, length=None):\n",
    "    \"\"\"\n",
    "    Pad x\n",
    "    :param x: List of sequences.\n",
    "    :param length: Length to pad the sequence to.  If None, use length of longest sequence in x.\n",
    "    :return: Padded numpy array of sequences\n",
    "    \"\"\"\n",
    "    # TODO: Implement\n",
    "    return pad_sequences(x, maxlen=length, padding='post')\n",
    "#tests.test_pad(pad)"
   ]
  },
  {
   "cell_type": "code",
   "execution_count": 11,
   "metadata": {},
   "outputs": [],
   "source": [
    "# same as above\n",
    "test_pad(pad)"
   ]
  },
  {
   "cell_type": "code",
   "execution_count": 12,
   "metadata": {},
   "outputs": [
    {
     "name": "stdout",
     "output_type": "stream",
     "text": [
      "Sequence 1 in x\n",
      "  Input:  [1 2 4 5 6 7 1 8 9]\n",
      "  Output: [1 2 4 5 6 7 1 8 9 0]\n",
      "Sequence 2 in x\n",
      "  Input:  [10 11 12  2 13 14 15 16  3 17]\n",
      "  Output: [10 11 12  2 13 14 15 16  3 17]\n",
      "Sequence 3 in x\n",
      "  Input:  [18 19  3 20 21]\n",
      "  Output: [18 19  3 20 21  0  0  0  0  0]\n"
     ]
    }
   ],
   "source": [
    "# Pad Tokenized output\n",
    "test_pad = pad(text_tokenized)\n",
    "for sample_i, (token_sent, pad_sent) in enumerate(zip(text_tokenized, test_pad)):\n",
    "    print('Sequence {} in x'.format(sample_i + 1))\n",
    "    print('  Input:  {}'.format(np.array(token_sent)))\n",
    "    print('  Output: {}'.format(pad_sent))"
   ]
  },
  {
   "cell_type": "markdown",
   "metadata": {},
   "source": [
    "### Preprocess Pipeline\n",
    "Your focus for this project is to build neural network architecture, so we won't ask you to create a preprocess pipeline.  Instead, we've provided you with the implementation of the `preprocess` function."
   ]
  },
  {
   "cell_type": "code",
   "execution_count": 13,
   "metadata": {},
   "outputs": [
    {
     "name": "stdout",
     "output_type": "stream",
     "text": [
      "Data Preprocessed\n",
      "Max English sentence length: 15\n",
      "Max French sentence length: 21\n",
      "English vocabulary size: 199\n",
      "French vocabulary size: 345\n"
     ]
    }
   ],
   "source": [
    "def preprocess(x, y):\n",
    "    \"\"\"\n",
    "    Preprocess x and y\n",
    "    :param x: Feature List of sentences\n",
    "    :param y: Label List of sentences\n",
    "    :return: Tuple of (Preprocessed x, Preprocessed y, x tokenizer, y tokenizer)\n",
    "    \"\"\"\n",
    "    preprocess_x, x_tk = tokenize(x)\n",
    "    preprocess_y, y_tk = tokenize(y)\n",
    "\n",
    "    preprocess_x = pad(preprocess_x)\n",
    "    preprocess_y = pad(preprocess_y)\n",
    "\n",
    "    # Keras's sparse_categorical_crossentropy function requires the labels to be in 3 dimensions\n",
    "    preprocess_y = preprocess_y.reshape(*preprocess_y.shape, 1)\n",
    "\n",
    "    return preprocess_x, preprocess_y, x_tk, y_tk\n",
    "\n",
    "preproc_english_sentences, preproc_french_sentences, english_tokenizer, french_tokenizer =\\\n",
    "    preprocess(english_sentences, french_sentences)\n",
    "    \n",
    "max_english_sequence_length = preproc_english_sentences.shape[1]\n",
    "max_french_sequence_length = preproc_french_sentences.shape[1]\n",
    "english_vocab_size = len(english_tokenizer.word_index)\n",
    "french_vocab_size = len(french_tokenizer.word_index)\n",
    "\n",
    "print('Data Preprocessed')\n",
    "print(\"Max English sentence length:\", max_english_sequence_length)\n",
    "print(\"Max French sentence length:\", max_french_sequence_length)\n",
    "print(\"English vocabulary size:\", english_vocab_size)\n",
    "print(\"French vocabulary size:\", french_vocab_size)"
   ]
  },
  {
   "cell_type": "markdown",
   "metadata": {},
   "source": [
    "## Models\n",
    "In this section, you will experiment with various neural network architectures.\n",
    "You will begin by training four relatively simple architectures.\n",
    "- Model 1 is a simple RNN\n",
    "- Model 2 is a RNN with Embedding\n",
    "- Model 3 is a Bidirectional RNN\n",
    "- Model 4 is an optional Encoder-Decoder RNN\n",
    "\n",
    "After experimenting with the four simple architectures, you will construct a deeper architecture that is designed to outperform all four models.\n",
    "### Ids Back to Text\n",
    "The neural network will be translating the input to words ids, which isn't the final form we want.  We want the French translation.  The function `logits_to_text` will bridge the gab between the logits from the neural network to the French translation.  You'll be using this function to better understand the output of the neural network."
   ]
  },
  {
   "cell_type": "code",
   "execution_count": 14,
   "metadata": {},
   "outputs": [
    {
     "name": "stdout",
     "output_type": "stream",
     "text": [
      "`logits_to_text` function loaded.\n"
     ]
    }
   ],
   "source": [
    "def logits_to_text(logits, tokenizer):\n",
    "    \"\"\"\n",
    "    Turn logits from a neural network into text using the tokenizer\n",
    "    :param logits: Logits from a neural network\n",
    "    :param tokenizer: Keras Tokenizer fit on the labels\n",
    "    :return: String that represents the text of the logits\n",
    "    \"\"\"\n",
    "    index_to_words = {id: word for word, id in tokenizer.word_index.items()}\n",
    "    index_to_words[0] = '<PAD>'\n",
    "\n",
    "    return ' '.join([index_to_words[prediction] for prediction in np.argmax(logits, 1)])\n",
    "\n",
    "print('`logits_to_text` function loaded.')"
   ]
  },
  {
   "cell_type": "markdown",
   "metadata": {},
   "source": [
    "### Model 1: RNN (IMPLEMENTATION)\n",
    "![RNN](images/rnn.png)\n",
    "A basic RNN model is a good baseline for sequence data.  In this model, you'll build a RNN that translates English to French."
   ]
  },
  {
   "cell_type": "code",
   "execution_count": 15,
   "metadata": {},
   "outputs": [],
   "source": [
    "from keras.models import Sequential\n",
    "from keras.layers import LSTM, Dropout\n",
    "\n",
    "\n",
    "def simple_model(input_shape, output_sequence_length, english_vocab_size, french_vocab_size):\n",
    "    \"\"\"\n",
    "    Build and train a basic RNN on x and y\n",
    "    :param input_shape: Tuple of input shape\n",
    "    :param output_sequence_length: Length of output sequence\n",
    "    :param english_vocab_size: Number of unique English words in the dataset\n",
    "    :param french_vocab_size: Number of unique French words in the dataset\n",
    "    :return: Keras model built, but not trained\n",
    "    \"\"\"\n",
    "\n",
    "    # TODO: Build the layers\n",
    "    learning_rate = 0.002\n",
    "    \n",
    "    model = Sequential()\n",
    "    model.add(GRU(256, input_shape = input_shape[1:], return_sequences = True))\n",
    "    model.add(Dropout(0.2))\n",
    "    model.add(Dense(french_vocab_size, activation = 'softmax'))\n",
    "    model.summary()\n",
    "        \n",
    "    model.compile(loss=sparse_categorical_crossentropy,\n",
    "                  optimizer=Adam(learning_rate),\n",
    "                  metrics=['accuracy'])\n",
    "    return model\n",
    "#tests.test_simple_model(simple_model)"
   ]
  },
  {
   "cell_type": "markdown",
   "metadata": {},
   "source": [
    "This is the simplest RNN model I could think of"
   ]
  },
  {
   "cell_type": "code",
   "execution_count": 16,
   "metadata": {},
   "outputs": [],
   "source": [
    "from project_tests import test_simple_model"
   ]
  },
  {
   "cell_type": "code",
   "execution_count": 17,
   "metadata": {},
   "outputs": [
    {
     "name": "stdout",
     "output_type": "stream",
     "text": [
      "_________________________________________________________________\n",
      "Layer (type)                 Output Shape              Param #   \n",
      "=================================================================\n",
      "gru_1 (GRU)                  (None, 21, 256)           198144    \n",
      "_________________________________________________________________\n",
      "dropout_1 (Dropout)          (None, 21, 256)           0         \n",
      "_________________________________________________________________\n",
      "dense_1 (Dense)              (None, 21, 344)           88408     \n",
      "=================================================================\n",
      "Total params: 286,552\n",
      "Trainable params: 286,552\n",
      "Non-trainable params: 0\n",
      "_________________________________________________________________\n"
     ]
    }
   ],
   "source": [
    "test_simple_model(simple_model)"
   ]
  },
  {
   "cell_type": "code",
   "execution_count": 18,
   "metadata": {},
   "outputs": [],
   "source": [
    "# Reshaping the input to work with a basic RNN\n",
    "tmp_x = pad(preproc_english_sentences, max_french_sequence_length)\n",
    "tmp_x = tmp_x.reshape((-1, preproc_french_sentences.shape[-2], 1))"
   ]
  },
  {
   "cell_type": "code",
   "execution_count": 19,
   "metadata": {},
   "outputs": [
    {
     "name": "stdout",
     "output_type": "stream",
     "text": [
      "_________________________________________________________________\n",
      "Layer (type)                 Output Shape              Param #   \n",
      "=================================================================\n",
      "gru_2 (GRU)                  (None, 21, 256)           198144    \n",
      "_________________________________________________________________\n",
      "dropout_2 (Dropout)          (None, 21, 256)           0         \n",
      "_________________________________________________________________\n",
      "dense_2 (Dense)              (None, 21, 345)           88665     \n",
      "=================================================================\n",
      "Total params: 286,809\n",
      "Trainable params: 286,809\n",
      "Non-trainable params: 0\n",
      "_________________________________________________________________\n"
     ]
    }
   ],
   "source": [
    "# Build the model\n",
    "simple_rnn_model = simple_model(\n",
    "    tmp_x.shape,\n",
    "    max_french_sequence_length,\n",
    "    english_vocab_size,\n",
    "    french_vocab_size)"
   ]
  },
  {
   "cell_type": "code",
   "execution_count": 20,
   "metadata": {},
   "outputs": [
    {
     "name": "stdout",
     "output_type": "stream",
     "text": [
      "Train on 110288 samples, validate on 27573 samples\n",
      "Epoch 1/8\n",
      "110288/110288 [==============================] - 13s 115us/step - loss: 1.6147 - acc: 0.5868 - val_loss: nan - val_acc: 0.6515\n",
      "Epoch 2/8\n",
      "110288/110288 [==============================] - 11s 103us/step - loss: 1.1416 - acc: 0.6523 - val_loss: nan - val_acc: 0.6741\n",
      "Epoch 3/8\n",
      "110288/110288 [==============================] - 11s 103us/step - loss: 1.0399 - acc: 0.6678 - val_loss: nan - val_acc: 0.6945\n",
      "Epoch 4/8\n",
      "110288/110288 [==============================] - 11s 103us/step - loss: 0.9638 - acc: 0.6849 - val_loss: nan - val_acc: 0.7204\n",
      "Epoch 5/8\n",
      "110288/110288 [==============================] - 11s 103us/step - loss: 0.8761 - acc: 0.7164 - val_loss: nan - val_acc: 0.7492\n",
      "Epoch 6/8\n",
      "110288/110288 [==============================] - 11s 103us/step - loss: 0.8170 - acc: 0.7365 - val_loss: nan - val_acc: 0.7636\n",
      "Epoch 7/8\n",
      "110288/110288 [==============================] - 11s 103us/step - loss: 0.7716 - acc: 0.7519 - val_loss: nan - val_acc: 0.7847\n",
      "Epoch 8/8\n",
      "110288/110288 [==============================] - 11s 102us/step - loss: 0.7450 - acc: 0.7601 - val_loss: nan - val_acc: 0.7946\n"
     ]
    },
    {
     "data": {
      "text/plain": [
       "<keras.callbacks.History at 0x18639304b70>"
      ]
     },
     "execution_count": 20,
     "metadata": {},
     "output_type": "execute_result"
    }
   ],
   "source": [
    "# Train the neural network\n",
    "simple_rnn_model.fit(tmp_x, preproc_french_sentences, batch_size=256, epochs=8, validation_split=0.2)"
   ]
  },
  {
   "cell_type": "code",
   "execution_count": 21,
   "metadata": {},
   "outputs": [
    {
     "name": "stdout",
     "output_type": "stream",
     "text": [
      "new jersey est parfois chaud en mois de il il est il en en <PAD> <PAD> <PAD> <PAD> <PAD> <PAD> <PAD>\n"
     ]
    }
   ],
   "source": [
    "# Print prediction(s)\n",
    "print(logits_to_text(simple_rnn_model.predict(tmp_x[:1])[0], french_tokenizer))"
   ]
  },
  {
   "cell_type": "markdown",
   "metadata": {},
   "source": [
    "OK, the network trained, accuracy was so-so, the test phrase translation should be: \"new jersey est parfois calme pendant l' automne et il est neigeux en avril\" - probably this test phrase is in the 20% of incorrect trnslations (val_acc is almost 80%). Now, let's see how embeddings improve the situation:"
   ]
  },
  {
   "cell_type": "markdown",
   "metadata": {},
   "source": [
    "### Model 2: Embedding (IMPLEMENTATION)\n",
    "![RNN](images/embedding.png)\n",
    "You've turned the words into ids, but there's a better representation of a word.  This is called word embeddings.  An embedding is a vector representation of the word that is close to similar words in n-dimensional space, where the n represents the size of the embedding vectors.\n",
    "\n",
    "In this model, you'll create a RNN model using embedding."
   ]
  },
  {
   "cell_type": "code",
   "execution_count": 23,
   "metadata": {},
   "outputs": [],
   "source": [
    "def embed_model(input_shape, output_sequence_length, english_vocab_size, french_vocab_size):\n",
    "    \"\"\"\n",
    "    Build and train a RNN model using word embedding on x and y\n",
    "    :param input_shape: Tuple of input shape\n",
    "    :param output_sequence_length: Length of output sequence\n",
    "    :param english_vocab_size: Number of unique English words in the dataset\n",
    "    :param french_vocab_size: Number of unique French words in the dataset\n",
    "    :return: Keras model built, but not trained\n",
    "    \"\"\"\n",
    "    learning_rate = 0.002\n",
    "    \n",
    "    model = Sequential()\n",
    "    model.add(Embedding(english_vocab_size, 128, input_shape = input_shape[1:]))\n",
    "    model.add(GRU(256, return_sequences = True))\n",
    "    model.add(Dropout(0.2))\n",
    "    model.add(Dense(french_vocab_size, activation = 'softmax'))\n",
    "    model.summary()\n",
    "        \n",
    "    model.compile(loss=sparse_categorical_crossentropy,\n",
    "                  optimizer=Adam(learning_rate),\n",
    "                  metrics=['accuracy'])\n",
    "    return model"
   ]
  },
  {
   "cell_type": "code",
   "execution_count": 22,
   "metadata": {},
   "outputs": [],
   "source": [
    "from project_tests import test_embed_model"
   ]
  },
  {
   "cell_type": "code",
   "execution_count": 24,
   "metadata": {},
   "outputs": [
    {
     "name": "stdout",
     "output_type": "stream",
     "text": [
      "_________________________________________________________________\n",
      "Layer (type)                 Output Shape              Param #   \n",
      "=================================================================\n",
      "embedding_1 (Embedding)      (None, 21, 128)           25472     \n",
      "_________________________________________________________________\n",
      "gru_3 (GRU)                  (None, 21, 256)           295680    \n",
      "_________________________________________________________________\n",
      "dropout_3 (Dropout)          (None, 21, 256)           0         \n",
      "_________________________________________________________________\n",
      "dense_3 (Dense)              (None, 21, 344)           88408     \n",
      "=================================================================\n",
      "Total params: 409,560\n",
      "Trainable params: 409,560\n",
      "Non-trainable params: 0\n",
      "_________________________________________________________________\n"
     ]
    }
   ],
   "source": [
    "test_embed_model(embed_model)"
   ]
  },
  {
   "cell_type": "code",
   "execution_count": 25,
   "metadata": {},
   "outputs": [],
   "source": [
    "# Reshaping the input to work with a basic RNN\n",
    "tmp_x = pad(preproc_english_sentences, max_french_sequence_length)\n",
    "tmp_x = tmp_x.reshape((-1, preproc_french_sentences.shape[-2]))"
   ]
  },
  {
   "cell_type": "code",
   "execution_count": 26,
   "metadata": {},
   "outputs": [
    {
     "name": "stdout",
     "output_type": "stream",
     "text": [
      "_________________________________________________________________\n",
      "Layer (type)                 Output Shape              Param #   \n",
      "=================================================================\n",
      "embedding_2 (Embedding)      (None, 21, 128)           25600     \n",
      "_________________________________________________________________\n",
      "gru_4 (GRU)                  (None, 21, 256)           295680    \n",
      "_________________________________________________________________\n",
      "dropout_4 (Dropout)          (None, 21, 256)           0         \n",
      "_________________________________________________________________\n",
      "dense_4 (Dense)              (None, 21, 346)           88922     \n",
      "=================================================================\n",
      "Total params: 410,202\n",
      "Trainable params: 410,202\n",
      "Non-trainable params: 0\n",
      "_________________________________________________________________\n"
     ]
    }
   ],
   "source": [
    "embed_rnn_model = embed_model(\n",
    "    tmp_x.shape,\n",
    "    max_french_sequence_length,\n",
    "    english_vocab_size+1,\n",
    "    french_vocab_size+1)"
   ]
  },
  {
   "cell_type": "code",
   "execution_count": 27,
   "metadata": {},
   "outputs": [
    {
     "name": "stdout",
     "output_type": "stream",
     "text": [
      "Train on 110288 samples, validate on 27573 samples\n",
      "Epoch 1/8\n",
      "110288/110288 [==============================] - 13s 118us/step - loss: 1.3499 - acc: 0.6949 - val_loss: 0.4737 - val_acc: 0.8557\n",
      "Epoch 2/8\n",
      "110288/110288 [==============================] - 12s 111us/step - loss: 0.3829 - acc: 0.8807 - val_loss: 0.2974 - val_acc: 0.9043\n",
      "Epoch 3/8\n",
      "110288/110288 [==============================] - 12s 111us/step - loss: 0.2854 - acc: 0.9076 - val_loss: 0.2442 - val_acc: 0.9198\n",
      "Epoch 4/8\n",
      "110288/110288 [==============================] - 12s 111us/step - loss: 0.2467 - acc: 0.9188 - val_loss: 0.2242 - val_acc: 0.9251\n",
      "Epoch 5/8\n",
      "110288/110288 [==============================] - 12s 109us/step - loss: 0.2262 - acc: 0.9243 - val_loss: 0.2063 - val_acc: 0.9299\n",
      "Epoch 6/8\n",
      "110288/110288 [==============================] - 12s 109us/step - loss: 0.2137 - acc: 0.9278 - val_loss: 0.1988 - val_acc: 0.9328\n",
      "Epoch 7/8\n",
      "110288/110288 [==============================] - 12s 109us/step - loss: 0.2051 - acc: 0.9300 - val_loss: 0.1917 - val_acc: 0.9339\n",
      "Epoch 8/8\n",
      "110288/110288 [==============================] - 12s 112us/step - loss: 0.1986 - acc: 0.9316 - val_loss: 0.1920 - val_acc: 0.9331\n"
     ]
    },
    {
     "data": {
      "text/plain": [
       "<keras.callbacks.History at 0x1863a2e0e48>"
      ]
     },
     "execution_count": 27,
     "metadata": {},
     "output_type": "execute_result"
    }
   ],
   "source": [
    "embed_rnn_model.fit(tmp_x, preproc_french_sentences, batch_size=256, epochs=8, validation_split=0.2)"
   ]
  },
  {
   "cell_type": "markdown",
   "metadata": {},
   "source": [
    "Pretty significant improvement in validation accuracy. (Big news indeed that embedding helps!) I think it would be even better to use pre-trained embeddings like CBOW or Word2Vec, but they are really large (gygabytes or so)..."
   ]
  },
  {
   "cell_type": "code",
   "execution_count": 29,
   "metadata": {},
   "outputs": [
    {
     "name": "stdout",
     "output_type": "stream",
     "text": [
      "new jersey est parfois calme en l' automne et il est neigeux en avril <PAD> <PAD> <PAD> <PAD> <PAD> <PAD> <PAD>\n"
     ]
    }
   ],
   "source": [
    "# Print prediction(s)\n",
    "print(logits_to_text(embed_rnn_model.predict(tmp_x[:1])[0], french_tokenizer))"
   ]
  },
  {
   "cell_type": "markdown",
   "metadata": {},
   "source": [
    "The translation of the test phrase is a bit incorrect, it had too be: \"new jersey est parfois calme pendant l' automne et il est neigeux en avril\""
   ]
  },
  {
   "cell_type": "markdown",
   "metadata": {},
   "source": [
    "### Model 3: Bidirectional RNNs (IMPLEMENTATION)\n",
    "![RNN](images/bidirectional.png)\n",
    "One restriction of a RNN is that it can't see the future input, only the past.  This is where bidirectional recurrent neural networks come in.  They are able to see the future data."
   ]
  },
  {
   "cell_type": "code",
   "execution_count": 30,
   "metadata": {},
   "outputs": [],
   "source": [
    "def bd_model(input_shape, output_sequence_length, english_vocab_size, french_vocab_size):\n",
    "    \"\"\"\n",
    "    Build and train a bidirectional RNN model on x and y\n",
    "    :param input_shape: Tuple of input shape\n",
    "    :param output_sequence_length: Length of output sequence\n",
    "    :param english_vocab_size: Number of unique English words in the dataset\n",
    "    :param french_vocab_size: Number of unique French words in the dataset\n",
    "    :return: Keras model built, but not trained\n",
    "    \"\"\"\n",
    "    learning_rate = 0.002\n",
    "    \n",
    "    model = Sequential()\n",
    "    #model.add(Embedding(english_vocab_size, 128, input_shape = input_shape[1:]))\n",
    "    model.add(Bidirectional(GRU(256, return_sequences = True), input_shape = input_shape[1:]))\n",
    "    model.add(Dropout(0.2))\n",
    "    model.add(Dense(french_vocab_size, activation = 'softmax'))\n",
    "    model.summary()\n",
    "    \n",
    "    model.compile(loss=sparse_categorical_crossentropy,\n",
    "                  optimizer=Adam(learning_rate),\n",
    "                  metrics=['accuracy'])\n",
    "    \n",
    "    return model\n",
    "\n",
    "\n",
    "#tests.test_bd_model(bd_model)"
   ]
  },
  {
   "cell_type": "code",
   "execution_count": 31,
   "metadata": {},
   "outputs": [],
   "source": [
    "from project_tests import test_bd_model"
   ]
  },
  {
   "cell_type": "code",
   "execution_count": 32,
   "metadata": {},
   "outputs": [],
   "source": [
    "# Reshaping the input to work with a basic RNN\n",
    "tmp_x = pad(preproc_english_sentences, max_french_sequence_length)\n",
    "tmp_x = tmp_x.reshape((-1, preproc_french_sentences.shape[-2], 1))"
   ]
  },
  {
   "cell_type": "code",
   "execution_count": 33,
   "metadata": {},
   "outputs": [
    {
     "name": "stdout",
     "output_type": "stream",
     "text": [
      "_________________________________________________________________\n",
      "Layer (type)                 Output Shape              Param #   \n",
      "=================================================================\n",
      "bidirectional_1 (Bidirection (None, 21, 512)           396288    \n",
      "_________________________________________________________________\n",
      "dropout_5 (Dropout)          (None, 21, 512)           0         \n",
      "_________________________________________________________________\n",
      "dense_5 (Dense)              (None, 21, 346)           177498    \n",
      "=================================================================\n",
      "Total params: 573,786\n",
      "Trainable params: 573,786\n",
      "Non-trainable params: 0\n",
      "_________________________________________________________________\n"
     ]
    }
   ],
   "source": [
    "bd_rnn_model = bd_model(\n",
    "    tmp_x.shape,\n",
    "    max_french_sequence_length,\n",
    "    english_vocab_size,\n",
    "    french_vocab_size+1)"
   ]
  },
  {
   "cell_type": "code",
   "execution_count": 34,
   "metadata": {},
   "outputs": [
    {
     "name": "stdout",
     "output_type": "stream",
     "text": [
      "Train on 110288 samples, validate on 27573 samples\n",
      "Epoch 1/8\n",
      "110288/110288 [==============================] - 22s 197us/step - loss: 1.3905 - acc: 0.6257 - val_loss: 1.0378 - val_acc: 0.6844\n",
      "Epoch 2/8\n",
      "110288/110288 [==============================] - 20s 185us/step - loss: 1.0012 - acc: 0.6847 - val_loss: 0.8851 - val_acc: 0.7060\n",
      "Epoch 3/8\n",
      "110288/110288 [==============================] - 20s 185us/step - loss: 0.8931 - acc: 0.7022 - val_loss: 0.8065 - val_acc: 0.7194\n",
      "Epoch 4/8\n",
      "110288/110288 [==============================] - 21s 186us/step - loss: 0.8182 - acc: 0.7199 - val_loss: 0.7134 - val_acc: 0.7555\n",
      "Epoch 5/8\n",
      "110288/110288 [==============================] - 20s 184us/step - loss: 0.7340 - acc: 0.7518 - val_loss: 0.6291 - val_acc: 0.7907\n",
      "Epoch 6/8\n",
      "110288/110288 [==============================] - 20s 184us/step - loss: 0.6842 - acc: 0.7714 - val_loss: 0.5801 - val_acc: 0.8127\n",
      "Epoch 7/8\n",
      "110288/110288 [==============================] - 21s 187us/step - loss: 0.6460 - acc: 0.7842 - val_loss: 0.5712 - val_acc: 0.8133\n",
      "Epoch 8/8\n",
      "110288/110288 [==============================] - 21s 188us/step - loss: 0.6091 - acc: 0.7979 - val_loss: 0.5092 - val_acc: 0.8342\n"
     ]
    },
    {
     "data": {
      "text/plain": [
       "<keras.callbacks.History at 0x18656d2b550>"
      ]
     },
     "execution_count": 34,
     "metadata": {},
     "output_type": "execute_result"
    }
   ],
   "source": [
    "bd_rnn_model.fit(tmp_x, preproc_french_sentences, batch_size=256, epochs=8, validation_split=0.2)"
   ]
  },
  {
   "cell_type": "markdown",
   "metadata": {},
   "source": [
    "I must check if embeddings work here as well (the new model wouldn't pass the above test form project_tests)"
   ]
  },
  {
   "cell_type": "code",
   "execution_count": 35,
   "metadata": {},
   "outputs": [],
   "source": [
    "def bd_model(input_shape, output_sequence_length, english_vocab_size, french_vocab_size):\n",
    "    \"\"\"\n",
    "    Build and train a bidirectional RNN model on x and y\n",
    "    :param input_shape: Tuple of input shape\n",
    "    :param output_sequence_length: Length of output sequence\n",
    "    :param english_vocab_size: Number of unique English words in the dataset\n",
    "    :param french_vocab_size: Number of unique French words in the dataset\n",
    "    :return: Keras model built, but not trained\n",
    "    \"\"\"\n",
    "    learning_rate = 0.002\n",
    "    \n",
    "    model = Sequential()\n",
    "    model.add(Embedding(english_vocab_size, 128, input_shape = input_shape[1:]))\n",
    "    model.add(Bidirectional(GRU(256, return_sequences = True)))\n",
    "    model.add(Dropout(0.2))\n",
    "    model.add(Dense(french_vocab_size, activation = 'softmax'))\n",
    "    model.summary()\n",
    "    \n",
    "    model.compile(loss=sparse_categorical_crossentropy,\n",
    "                  optimizer=Adam(learning_rate),\n",
    "                  metrics=['accuracy'])\n",
    "    \n",
    "    return model\n"
   ]
  },
  {
   "cell_type": "code",
   "execution_count": 36,
   "metadata": {},
   "outputs": [],
   "source": [
    "# Reshaping the input to work with a basic RNN\n",
    "tmp_x = pad(preproc_english_sentences, max_french_sequence_length)\n",
    "tmp_x = tmp_x.reshape((-1, preproc_french_sentences.shape[-2]))"
   ]
  },
  {
   "cell_type": "code",
   "execution_count": 37,
   "metadata": {},
   "outputs": [
    {
     "name": "stdout",
     "output_type": "stream",
     "text": [
      "_________________________________________________________________\n",
      "Layer (type)                 Output Shape              Param #   \n",
      "=================================================================\n",
      "embedding_3 (Embedding)      (None, 21, 128)           25600     \n",
      "_________________________________________________________________\n",
      "bidirectional_2 (Bidirection (None, 21, 512)           591360    \n",
      "_________________________________________________________________\n",
      "dropout_6 (Dropout)          (None, 21, 512)           0         \n",
      "_________________________________________________________________\n",
      "dense_6 (Dense)              (None, 21, 346)           177498    \n",
      "=================================================================\n",
      "Total params: 794,458\n",
      "Trainable params: 794,458\n",
      "Non-trainable params: 0\n",
      "_________________________________________________________________\n"
     ]
    }
   ],
   "source": [
    "bd_rnn_model = bd_model(\n",
    "    tmp_x.shape,\n",
    "    max_french_sequence_length,\n",
    "    english_vocab_size+1,\n",
    "    french_vocab_size+1)"
   ]
  },
  {
   "cell_type": "code",
   "execution_count": 38,
   "metadata": {},
   "outputs": [
    {
     "name": "stdout",
     "output_type": "stream",
     "text": [
      "Train on 110288 samples, validate on 27573 samples\n",
      "Epoch 1/8\n",
      "110288/110288 [==============================] - 23s 208us/step - loss: 1.1102 - acc: 0.7380 - val_loss: 0.3640 - val_acc: 0.8880\n",
      "Epoch 2/8\n",
      "110288/110288 [==============================] - 21s 192us/step - loss: 0.2648 - acc: 0.9189 - val_loss: 0.1864 - val_acc: 0.9423\n",
      "Epoch 3/8\n",
      "110288/110288 [==============================] - 22s 196us/step - loss: 0.1628 - acc: 0.9497 - val_loss: 0.1306 - val_acc: 0.9594\n",
      "Epoch 4/8\n",
      "110288/110288 [==============================] - 22s 198us/step - loss: 0.1215 - acc: 0.9622 - val_loss: 0.1038 - val_acc: 0.9684\n",
      "Epoch 5/8\n",
      "110288/110288 [==============================] - 21s 189us/step - loss: 0.1017 - acc: 0.9684 - val_loss: 0.0912 - val_acc: 0.9726\n",
      "Epoch 6/8\n",
      "110288/110288 [==============================] - 20s 186us/step - loss: 0.0878 - acc: 0.9727 - val_loss: 0.0843 - val_acc: 0.9747\n",
      "Epoch 7/8\n",
      "110288/110288 [==============================] - 20s 186us/step - loss: 0.0799 - acc: 0.9751 - val_loss: 0.0799 - val_acc: 0.9759\n",
      "Epoch 8/8\n",
      "110288/110288 [==============================] - 20s 186us/step - loss: 0.0729 - acc: 0.9772 - val_loss: 0.0764 - val_acc: 0.9773\n"
     ]
    },
    {
     "data": {
      "text/plain": [
       "<keras.callbacks.History at 0x1865b9c3438>"
      ]
     },
     "execution_count": 38,
     "metadata": {},
     "output_type": "execute_result"
    }
   ],
   "source": [
    "bd_rnn_model.fit(tmp_x, preproc_french_sentences, batch_size=256, epochs=8, validation_split=0.2)"
   ]
  },
  {
   "cell_type": "markdown",
   "metadata": {},
   "source": [
    "Absolutely amamzing! The validation accuracy of 97% achieved for a very simple model. I remember that it was Mr Andrej Karpathy who claimed that using reversed sequences in RNNs helps to improve the quality (accuracy) of translation - but I can't find the exact reference - sorry about that!"
   ]
  },
  {
   "cell_type": "markdown",
   "metadata": {},
   "source": [
    "I also remember the discusiion about different cell types: GRU vs LSTM. Let's make an experiment and see ourselves!"
   ]
  },
  {
   "cell_type": "code",
   "execution_count": 39,
   "metadata": {},
   "outputs": [],
   "source": [
    "def bd_model(input_shape, output_sequence_length, english_vocab_size, french_vocab_size):\n",
    "    \"\"\"\n",
    "    Build and train a bidirectional RNN model on x and y\n",
    "    :param input_shape: Tuple of input shape\n",
    "    :param output_sequence_length: Length of output sequence\n",
    "    :param english_vocab_size: Number of unique English words in the dataset\n",
    "    :param french_vocab_size: Number of unique French words in the dataset\n",
    "    :return: Keras model built, but not trained\n",
    "    \"\"\"\n",
    "    learning_rate = 0.002\n",
    "    \n",
    "    model = Sequential()\n",
    "    model.add(Embedding(english_vocab_size, 128, input_shape = input_shape[1:]))\n",
    "    model.add(Bidirectional(LSTM(256, return_sequences = True)))\n",
    "    model.add(Dropout(0.2))\n",
    "    model.add(Dense(french_vocab_size, activation = 'softmax'))\n",
    "    model.summary()\n",
    "    \n",
    "    model.compile(loss=sparse_categorical_crossentropy,\n",
    "                  optimizer=Adam(learning_rate),\n",
    "                  metrics=['accuracy'])\n",
    "    \n",
    "    return model\n"
   ]
  },
  {
   "cell_type": "code",
   "execution_count": 40,
   "metadata": {},
   "outputs": [
    {
     "name": "stdout",
     "output_type": "stream",
     "text": [
      "_________________________________________________________________\n",
      "Layer (type)                 Output Shape              Param #   \n",
      "=================================================================\n",
      "embedding_4 (Embedding)      (None, 21, 128)           25600     \n",
      "_________________________________________________________________\n",
      "bidirectional_3 (Bidirection (None, 21, 512)           788480    \n",
      "_________________________________________________________________\n",
      "dropout_7 (Dropout)          (None, 21, 512)           0         \n",
      "_________________________________________________________________\n",
      "dense_7 (Dense)              (None, 21, 346)           177498    \n",
      "=================================================================\n",
      "Total params: 991,578\n",
      "Trainable params: 991,578\n",
      "Non-trainable params: 0\n",
      "_________________________________________________________________\n"
     ]
    }
   ],
   "source": [
    "bd_rnn_model = bd_model(\n",
    "    tmp_x.shape,\n",
    "    max_french_sequence_length,\n",
    "    english_vocab_size+1,\n",
    "    french_vocab_size+1)"
   ]
  },
  {
   "cell_type": "code",
   "execution_count": 41,
   "metadata": {},
   "outputs": [
    {
     "name": "stdout",
     "output_type": "stream",
     "text": [
      "Train on 110288 samples, validate on 27573 samples\n",
      "Epoch 1/8\n",
      "110288/110288 [==============================] - 28s 256us/step - loss: 1.3286 - acc: 0.6892 - val_loss: 0.4353 - val_acc: 0.8688\n",
      "Epoch 2/8\n",
      "110288/110288 [==============================] - 27s 241us/step - loss: 0.3261 - acc: 0.8991 - val_loss: 0.2186 - val_acc: 0.9321\n",
      "Epoch 3/8\n",
      "110288/110288 [==============================] - 26s 239us/step - loss: 0.1951 - acc: 0.9397 - val_loss: 0.1425 - val_acc: 0.9569\n",
      "Epoch 4/8\n",
      "110288/110288 [==============================] - 26s 240us/step - loss: 0.1443 - acc: 0.9554 - val_loss: 0.1153 - val_acc: 0.9645\n",
      "Epoch 5/8\n",
      "110288/110288 [==============================] - 26s 239us/step - loss: 0.1154 - acc: 0.9641 - val_loss: 0.0982 - val_acc: 0.9704\n",
      "Epoch 6/8\n",
      "110288/110288 [==============================] - 26s 238us/step - loss: 0.0983 - acc: 0.9692 - val_loss: 0.0900 - val_acc: 0.9728\n",
      "Epoch 7/8\n",
      "110288/110288 [==============================] - 27s 242us/step - loss: 0.0863 - acc: 0.9729 - val_loss: 0.0809 - val_acc: 0.9761\n",
      "Epoch 8/8\n",
      "110288/110288 [==============================] - 27s 244us/step - loss: 0.0770 - acc: 0.9758 - val_loss: 0.0772 - val_acc: 0.9770\n"
     ]
    },
    {
     "data": {
      "text/plain": [
       "<keras.callbacks.History at 0x1863e480710>"
      ]
     },
     "execution_count": 41,
     "metadata": {},
     "output_type": "execute_result"
    }
   ],
   "source": [
    "bd_rnn_model.fit(tmp_x, preproc_french_sentences, batch_size=256, epochs=8, validation_split=0.2)"
   ]
  },
  {
   "cell_type": "markdown",
   "metadata": {},
   "source": [
    "No clear winner! Both models (LSTM and GRU) reach validation accuracy of over 97%."
   ]
  },
  {
   "cell_type": "code",
   "execution_count": 43,
   "metadata": {},
   "outputs": [
    {
     "name": "stdout",
     "output_type": "stream",
     "text": [
      "new jersey est parfois calme pendant l' automne et il est neigeux en avril <PAD> <PAD> <PAD> <PAD> <PAD> <PAD> <PAD>\n"
     ]
    }
   ],
   "source": [
    "# Print prediction(s)\n",
    "print(logits_to_text(bd_rnn_model.predict(tmp_x[:1])[0], french_tokenizer))"
   ]
  },
  {
   "cell_type": "markdown",
   "metadata": {},
   "source": [
    "'new jersey est parfois calme pendant l' automne et il est neigeux en avril' is the correct translation!"
   ]
  },
  {
   "cell_type": "markdown",
   "metadata": {},
   "source": [
    "### Model 4: Encoder-Decoder (OPTIONAL)\n",
    "Time to look at encoder-decoder models.  This model is made up of an encoder and decoder. The encoder creates a matrix representation of the sentence.  The decoder takes this matrix as input and predicts the translation as output.\n",
    "\n",
    "Create an encoder-decoder model in the cell below."
   ]
  },
  {
   "cell_type": "code",
   "execution_count": 45,
   "metadata": {},
   "outputs": [],
   "source": [
    "def encdec_model(input_shape, output_sequence_length, english_vocab_size, french_vocab_size):\n",
    "    \"\"\"\n",
    "    Build and train an encoder-decoder model on x and y\n",
    "    :param input_shape: Tuple of input shape\n",
    "    :param output_sequence_length: Length of output sequence\n",
    "    :param english_vocab_size: Number of unique English words in the dataset\n",
    "    :param french_vocab_size: Number of unique French words in the dataset\n",
    "    :return: Keras model built, but not trained\n",
    "    \"\"\"\n",
    "    # Implement\n",
    "    learning_rate = 0.002\n",
    "    \n",
    "    model = Sequential()\n",
    "    \n",
    "    # encoder\n",
    "    #model.add(Embedding(english_vocab_size, 128, input_shape = input_shape[1:]))\n",
    "    model.add(GRU(256, input_shape = input_shape[1:]))\n",
    "    model.add(Dropout(0.2))\n",
    "    \n",
    "    # internal representation of the sentence which is transferred from encoder into decoder:\n",
    "    model.add(RepeatVector(output_sequence_length))\n",
    "    \n",
    "    # decoder\n",
    "    model.add(GRU(256, return_sequences = True))\n",
    "    model.add(Dropout(0.2))\n",
    "    \n",
    "    model.add(TimeDistributed(Dense(french_vocab_size, activation = 'softmax')))\n",
    "    model.summary()\n",
    "    \n",
    "    model.compile(loss=sparse_categorical_crossentropy,\n",
    "                  optimizer=Adam(learning_rate),\n",
    "                  metrics=['accuracy'])\n",
    "    \n",
    "    \n",
    "    return model\n",
    "\n",
    "\n",
    "#tests.test_encdec_model(encdec_model)"
   ]
  },
  {
   "cell_type": "code",
   "execution_count": 44,
   "metadata": {},
   "outputs": [],
   "source": [
    "from project_tests import test_encdec_model"
   ]
  },
  {
   "cell_type": "code",
   "execution_count": 46,
   "metadata": {},
   "outputs": [
    {
     "name": "stdout",
     "output_type": "stream",
     "text": [
      "_________________________________________________________________\n",
      "Layer (type)                 Output Shape              Param #   \n",
      "=================================================================\n",
      "gru_7 (GRU)                  (None, 256)               198144    \n",
      "_________________________________________________________________\n",
      "dropout_8 (Dropout)          (None, 256)               0         \n",
      "_________________________________________________________________\n",
      "repeat_vector_1 (RepeatVecto (None, 21, 256)           0         \n",
      "_________________________________________________________________\n",
      "gru_8 (GRU)                  (None, 21, 256)           393984    \n",
      "_________________________________________________________________\n",
      "dropout_9 (Dropout)          (None, 21, 256)           0         \n",
      "_________________________________________________________________\n",
      "time_distributed_1 (TimeDist (None, 21, 344)           88408     \n",
      "=================================================================\n",
      "Total params: 680,536\n",
      "Trainable params: 680,536\n",
      "Non-trainable params: 0\n",
      "_________________________________________________________________\n"
     ]
    }
   ],
   "source": [
    "test_encdec_model(encdec_model)"
   ]
  },
  {
   "cell_type": "code",
   "execution_count": 47,
   "metadata": {},
   "outputs": [],
   "source": [
    "# Reshaping the input to work with a basic RNN\n",
    "tmp_x = pad(preproc_english_sentences, max_french_sequence_length)\n",
    "tmp_x = tmp_x.reshape((-1, preproc_french_sentences.shape[-2], 1))"
   ]
  },
  {
   "cell_type": "code",
   "execution_count": 50,
   "metadata": {},
   "outputs": [
    {
     "name": "stdout",
     "output_type": "stream",
     "text": [
      "_________________________________________________________________\n",
      "Layer (type)                 Output Shape              Param #   \n",
      "=================================================================\n",
      "gru_9 (GRU)                  (None, 256)               198144    \n",
      "_________________________________________________________________\n",
      "dropout_10 (Dropout)         (None, 256)               0         \n",
      "_________________________________________________________________\n",
      "repeat_vector_2 (RepeatVecto (None, 21, 256)           0         \n",
      "_________________________________________________________________\n",
      "gru_10 (GRU)                 (None, 21, 256)           393984    \n",
      "_________________________________________________________________\n",
      "dropout_11 (Dropout)         (None, 21, 256)           0         \n",
      "_________________________________________________________________\n",
      "time_distributed_2 (TimeDist (None, 21, 346)           88922     \n",
      "=================================================================\n",
      "Total params: 681,050\n",
      "Trainable params: 681,050\n",
      "Non-trainable params: 0\n",
      "_________________________________________________________________\n"
     ]
    }
   ],
   "source": [
    "encdec_rnn_model = encdec_model(\n",
    "    tmp_x.shape,\n",
    "    max_french_sequence_length,\n",
    "    english_vocab_size,\n",
    "    french_vocab_size+1)"
   ]
  },
  {
   "cell_type": "code",
   "execution_count": 51,
   "metadata": {},
   "outputs": [
    {
     "name": "stdout",
     "output_type": "stream",
     "text": [
      "Train on 110288 samples, validate on 27573 samples\n",
      "Epoch 1/8\n",
      "110288/110288 [==============================] - 23s 205us/step - loss: 2.0787 - acc: 0.5238 - val_loss: 1.7919 - val_acc: 0.5400\n",
      "Epoch 2/8\n",
      "110288/110288 [==============================] - 21s 187us/step - loss: 1.4062 - acc: 0.6106 - val_loss: 1.2402 - val_acc: 0.6425\n",
      "Epoch 3/8\n",
      "110288/110288 [==============================] - 21s 189us/step - loss: 1.2562 - acc: 0.6360 - val_loss: 1.1767 - val_acc: 0.6486\n",
      "Epoch 4/8\n",
      "110288/110288 [==============================] - 21s 187us/step - loss: 1.1829 - acc: 0.6464 - val_loss: 1.0951 - val_acc: 0.6663\n",
      "Epoch 5/8\n",
      "110288/110288 [==============================] - 21s 188us/step - loss: 1.1115 - acc: 0.6576 - val_loss: 0.9952 - val_acc: 0.6831\n",
      "Epoch 6/8\n",
      "110288/110288 [==============================] - 21s 189us/step - loss: 1.0118 - acc: 0.6780 - val_loss: 0.8936 - val_acc: 0.7044\n",
      "Epoch 7/8\n",
      "110288/110288 [==============================] - 21s 188us/step - loss: 0.9310 - acc: 0.6949 - val_loss: 0.8423 - val_acc: 0.7159\n",
      "Epoch 8/8\n",
      "110288/110288 [==============================] - 21s 189us/step - loss: 0.8717 - acc: 0.7075 - val_loss: 0.7909 - val_acc: 0.7222\n"
     ]
    },
    {
     "data": {
      "text/plain": [
       "<keras.callbacks.History at 0x1866d012cf8>"
      ]
     },
     "execution_count": 51,
     "metadata": {},
     "output_type": "execute_result"
    }
   ],
   "source": [
    "# Train:\n",
    "encdec_rnn_model.fit(tmp_x, preproc_french_sentences, batch_size=256, epochs=8, validation_split=0.2)"
   ]
  },
  {
   "cell_type": "markdown",
   "metadata": {},
   "source": [
    "Yeah! The model badly needs embeddings!"
   ]
  },
  {
   "cell_type": "code",
   "execution_count": 52,
   "metadata": {},
   "outputs": [],
   "source": [
    "def encdec_model(input_shape, output_sequence_length, english_vocab_size, french_vocab_size):\n",
    "    \"\"\"\n",
    "    Build and train an encoder-decoder model on x and y\n",
    "    :param input_shape: Tuple of input shape\n",
    "    :param output_sequence_length: Length of output sequence\n",
    "    :param english_vocab_size: Number of unique English words in the dataset\n",
    "    :param french_vocab_size: Number of unique French words in the dataset\n",
    "    :return: Keras model built, but not trained\n",
    "    \"\"\"\n",
    "    # Implement\n",
    "    learning_rate = 0.002\n",
    "    \n",
    "    model = Sequential()\n",
    "    \n",
    "    # encoder\n",
    "    model.add(Embedding(english_vocab_size, 128, input_shape = input_shape[1:]))\n",
    "    model.add(GRU(256))\n",
    "    model.add(Dropout(0.2))\n",
    "    \n",
    "    # internal representation of the sentence which is transferred from encoder into decoder:\n",
    "    model.add(RepeatVector(output_sequence_length))\n",
    "    \n",
    "    # decoder\n",
    "    model.add(GRU(256, return_sequences = True))\n",
    "    model.add(Dropout(0.2))\n",
    "    \n",
    "    model.add(TimeDistributed(Dense(french_vocab_size, activation = 'softmax')))\n",
    "    model.summary()\n",
    "    \n",
    "    model.compile(loss=sparse_categorical_crossentropy,\n",
    "                  optimizer=Adam(learning_rate),\n",
    "                  metrics=['accuracy'])\n",
    "    \n",
    "    \n",
    "    return model"
   ]
  },
  {
   "cell_type": "code",
   "execution_count": 53,
   "metadata": {},
   "outputs": [],
   "source": [
    "# Reshaping the input to work with a basic RNN\n",
    "tmp_x = pad(preproc_english_sentences, max_french_sequence_length)\n",
    "tmp_x = tmp_x.reshape((-1, preproc_french_sentences.shape[-2]))"
   ]
  },
  {
   "cell_type": "code",
   "execution_count": 54,
   "metadata": {},
   "outputs": [
    {
     "name": "stdout",
     "output_type": "stream",
     "text": [
      "_________________________________________________________________\n",
      "Layer (type)                 Output Shape              Param #   \n",
      "=================================================================\n",
      "embedding_7 (Embedding)      (None, 21, 128)           25600     \n",
      "_________________________________________________________________\n",
      "gru_11 (GRU)                 (None, 256)               295680    \n",
      "_________________________________________________________________\n",
      "dropout_12 (Dropout)         (None, 256)               0         \n",
      "_________________________________________________________________\n",
      "repeat_vector_3 (RepeatVecto (None, 21, 256)           0         \n",
      "_________________________________________________________________\n",
      "gru_12 (GRU)                 (None, 21, 256)           393984    \n",
      "_________________________________________________________________\n",
      "dropout_13 (Dropout)         (None, 21, 256)           0         \n",
      "_________________________________________________________________\n",
      "time_distributed_3 (TimeDist (None, 21, 346)           88922     \n",
      "=================================================================\n",
      "Total params: 804,186\n",
      "Trainable params: 804,186\n",
      "Non-trainable params: 0\n",
      "_________________________________________________________________\n"
     ]
    }
   ],
   "source": [
    "encdec_rnn_model = encdec_model(\n",
    "    tmp_x.shape,\n",
    "    max_french_sequence_length,\n",
    "    english_vocab_size+1,\n",
    "    french_vocab_size+1)"
   ]
  },
  {
   "cell_type": "code",
   "execution_count": 55,
   "metadata": {},
   "outputs": [
    {
     "name": "stdout",
     "output_type": "stream",
     "text": [
      "Train on 110288 samples, validate on 27573 samples\n",
      "Epoch 1/8\n",
      "110288/110288 [==============================] - 23s 212us/step - loss: 2.0269 - acc: 0.5374 - val_loss: 1.3421 - val_acc: 0.6266\n",
      "Epoch 2/8\n",
      "110288/110288 [==============================] - 22s 196us/step - loss: 1.2174 - acc: 0.6529 - val_loss: 1.0336 - val_acc: 0.6869\n",
      "Epoch 3/8\n",
      "110288/110288 [==============================] - 21s 194us/step - loss: 0.9820 - acc: 0.6998 - val_loss: 0.8533 - val_acc: 0.7316\n",
      "Epoch 4/8\n",
      "110288/110288 [==============================] - 21s 194us/step - loss: 0.8111 - acc: 0.7409 - val_loss: 0.6847 - val_acc: 0.7736\n",
      "Epoch 5/8\n",
      "110288/110288 [==============================] - 21s 195us/step - loss: 0.6952 - acc: 0.7737 - val_loss: 0.5694 - val_acc: 0.8121\n",
      "Epoch 6/8\n",
      "110288/110288 [==============================] - 22s 198us/step - loss: 0.6049 - acc: 0.8033 - val_loss: 0.4948 - val_acc: 0.8392\n",
      "Epoch 7/8\n",
      "110288/110288 [==============================] - 21s 195us/step - loss: 0.5076 - acc: 0.8363 - val_loss: 0.4418 - val_acc: 0.8591\n",
      "Epoch 8/8\n",
      "110288/110288 [==============================] - 22s 197us/step - loss: 0.4250 - acc: 0.8658 - val_loss: 0.3094 - val_acc: 0.9058\n"
     ]
    },
    {
     "data": {
      "text/plain": [
       "<keras.callbacks.History at 0x1866e799d68>"
      ]
     },
     "execution_count": 55,
     "metadata": {},
     "output_type": "execute_result"
    }
   ],
   "source": [
    "# Train:\n",
    "encdec_rnn_model.fit(tmp_x, preproc_french_sentences, batch_size=256, epochs=8, validation_split=0.2)"
   ]
  },
  {
   "cell_type": "markdown",
   "metadata": {},
   "source": [
    "Definitely better (but not as impressive as Bidirectional RNNS). And what about our test phrase:"
   ]
  },
  {
   "cell_type": "code",
   "execution_count": 56,
   "metadata": {},
   "outputs": [
    {
     "name": "stdout",
     "output_type": "stream",
     "text": [
      "new jersey est parfois calme pendant l' automne et il est neigeux en avril <PAD> <PAD> <PAD> <PAD> <PAD> <PAD> <PAD>\n"
     ]
    }
   ],
   "source": [
    "# Print prediction(s)\n",
    "print(logits_to_text(bd_rnn_model.predict(tmp_x[:1])[0], french_tokenizer))"
   ]
  },
  {
   "cell_type": "markdown",
   "metadata": {},
   "source": [
    "One important note: as we use an encoder, we don't need to pad the input at its end to the length of the output. (Max lengths of English phrases is just 15 words). This can be done with little change to the code. The correct length of the data which enter the decoder is, in fact, guarateed by RepeatVector(output_sequence_length). The final pads are coded as zeroes, so they  increase the running time just slightly but it allows me to switch between models without any change of the input data format. I think this benefit outweighs the disadvantage of slighly more computations. But other people may make different choice at this point."
   ]
  },
  {
   "cell_type": "code",
   "execution_count": 57,
   "metadata": {},
   "outputs": [
    {
     "data": {
      "text/plain": [
       "array([17, 23,  1,  8, 67,  4, 39,  7,  3,  1, 55,  2, 44,  0,  0,  0,  0,\n",
       "        0,  0,  0,  0])"
      ]
     },
     "execution_count": 57,
     "metadata": {},
     "output_type": "execute_result"
    }
   ],
   "source": [
    "# this is used input format:\n",
    "tmp_x[0,]"
   ]
  },
  {
   "cell_type": "code",
   "execution_count": 58,
   "metadata": {},
   "outputs": [
    {
     "data": {
      "text/plain": [
       "array([17, 23,  1,  8, 67,  4, 39,  7,  3,  1, 55,  2, 44,  0,  0])"
      ]
     },
     "execution_count": 58,
     "metadata": {},
     "output_type": "execute_result"
    }
   ],
   "source": [
    "# this is the shortest possible input which could be used\n",
    "# not very much difference, just a bit shorter:\n",
    "preproc_english_sentences[0,]"
   ]
  },
  {
   "cell_type": "markdown",
   "metadata": {},
   "source": [
    "Can we do better? To improve the model we need to get better (more precise) representation of the incoming sentences. The obvious way is to increase the depth of the decoder to two levels. My previous experience with encode-decoder models make me think that he encoder and decoder must match each other in their \"strength\", so I'll use a decoder with two layers as well."
   ]
  },
  {
   "cell_type": "code",
   "execution_count": 59,
   "metadata": {},
   "outputs": [],
   "source": [
    "def encdec_model(input_shape, output_sequence_length, english_vocab_size, french_vocab_size):\n",
    "    \"\"\"\n",
    "    Build and train an encoder-decoder model on x and y\n",
    "    :param input_shape: Tuple of input shape\n",
    "    :param output_sequence_length: Length of output sequence\n",
    "    :param english_vocab_size: Number of unique English words in the dataset\n",
    "    :param french_vocab_size: Number of unique French words in the dataset\n",
    "    :return: Keras model built, but not trained\n",
    "    \"\"\"\n",
    "    # Implement\n",
    "    learning_rate = 0.002\n",
    "    \n",
    "    model = Sequential()\n",
    "    \n",
    "    # encoder\n",
    "    model.add(Embedding(english_vocab_size, 128, input_shape = input_shape[1:]))\n",
    "    model.add(GRU(256, return_sequences = True))\n",
    "    model.add(Dropout(0.2))\n",
    "    model.add(GRU(256))\n",
    "    model.add(Dropout(0.2))\n",
    "    \n",
    "    # internal representation of the sentence which is transferred from encoder into decoder:\n",
    "    model.add(RepeatVector(output_sequence_length))\n",
    "    \n",
    "    # decoder\n",
    "    model.add(GRU(256, return_sequences = True))\n",
    "    model.add(Dropout(0.2))\n",
    "    model.add(GRU(256, return_sequences = True))\n",
    "    model.add(Dropout(0.2))\n",
    "    \n",
    "    model.add(TimeDistributed(Dense(french_vocab_size, activation = 'softmax')))\n",
    "    model.summary()\n",
    "    \n",
    "    model.compile(loss=sparse_categorical_crossentropy,\n",
    "                  optimizer=Adam(learning_rate),\n",
    "                  metrics=['accuracy'])\n",
    "    \n",
    "    \n",
    "    return model"
   ]
  },
  {
   "cell_type": "code",
   "execution_count": 60,
   "metadata": {},
   "outputs": [
    {
     "name": "stdout",
     "output_type": "stream",
     "text": [
      "_________________________________________________________________\n",
      "Layer (type)                 Output Shape              Param #   \n",
      "=================================================================\n",
      "embedding_8 (Embedding)      (None, 21, 128)           25600     \n",
      "_________________________________________________________________\n",
      "gru_13 (GRU)                 (None, 21, 256)           295680    \n",
      "_________________________________________________________________\n",
      "dropout_14 (Dropout)         (None, 21, 256)           0         \n",
      "_________________________________________________________________\n",
      "gru_14 (GRU)                 (None, 256)               393984    \n",
      "_________________________________________________________________\n",
      "dropout_15 (Dropout)         (None, 256)               0         \n",
      "_________________________________________________________________\n",
      "repeat_vector_4 (RepeatVecto (None, 21, 256)           0         \n",
      "_________________________________________________________________\n",
      "gru_15 (GRU)                 (None, 21, 256)           393984    \n",
      "_________________________________________________________________\n",
      "dropout_16 (Dropout)         (None, 21, 256)           0         \n",
      "_________________________________________________________________\n",
      "gru_16 (GRU)                 (None, 21, 256)           393984    \n",
      "_________________________________________________________________\n",
      "dropout_17 (Dropout)         (None, 21, 256)           0         \n",
      "_________________________________________________________________\n",
      "time_distributed_4 (TimeDist (None, 21, 346)           88922     \n",
      "=================================================================\n",
      "Total params: 1,592,154\n",
      "Trainable params: 1,592,154\n",
      "Non-trainable params: 0\n",
      "_________________________________________________________________\n"
     ]
    }
   ],
   "source": [
    "encdec_rnn_model = encdec_model(\n",
    "    tmp_x.shape,\n",
    "    max_french_sequence_length,\n",
    "    english_vocab_size+1,\n",
    "    french_vocab_size+1)"
   ]
  },
  {
   "cell_type": "code",
   "execution_count": 61,
   "metadata": {},
   "outputs": [
    {
     "name": "stdout",
     "output_type": "stream",
     "text": [
      "Train on 110288 samples, validate on 27573 samples\n",
      "Epoch 1/16\n",
      "110288/110288 [==============================] - 43s 389us/step - loss: 2.0853 - acc: 0.5286 - val_loss: 1.3143 - val_acc: 0.6287\n",
      "Epoch 2/16\n",
      "110288/110288 [==============================] - 40s 364us/step - loss: 1.1567 - acc: 0.6653 - val_loss: 0.9660 - val_acc: 0.7081\n",
      "Epoch 3/16\n",
      "110288/110288 [==============================] - 41s 369us/step - loss: 0.9683 - acc: 0.7055 - val_loss: 0.8485 - val_acc: 0.7309\n",
      "Epoch 4/16\n",
      "110288/110288 [==============================] - 40s 365us/step - loss: 0.8262 - acc: 0.7349 - val_loss: 0.7268 - val_acc: 0.7588\n",
      "Epoch 5/16\n",
      "110288/110288 [==============================] - 40s 365us/step - loss: 0.7426 - acc: 0.7550 - val_loss: 0.6423 - val_acc: 0.7798\n",
      "Epoch 6/16\n",
      "110288/110288 [==============================] - 40s 364us/step - loss: 0.6704 - acc: 0.7740 - val_loss: 0.5571 - val_acc: 0.8054\n",
      "Epoch 7/16\n",
      "110288/110288 [==============================] - 40s 365us/step - loss: 0.6179 - acc: 0.7896 - val_loss: 0.5173 - val_acc: 0.8195\n",
      "Epoch 8/16\n",
      "110288/110288 [==============================] - 40s 365us/step - loss: 0.5741 - acc: 0.8047 - val_loss: 0.4775 - val_acc: 0.8344\n",
      "Epoch 9/16\n",
      "110288/110288 [==============================] - 40s 365us/step - loss: 0.5359 - acc: 0.8204 - val_loss: 0.4250 - val_acc: 0.8554\n",
      "Epoch 10/16\n",
      "110288/110288 [==============================] - 40s 364us/step - loss: 0.4860 - acc: 0.8391 - val_loss: 0.4348 - val_acc: 0.8540\n",
      "Epoch 11/16\n",
      "110288/110288 [==============================] - 40s 364us/step - loss: 0.4496 - acc: 0.8516 - val_loss: 0.3646 - val_acc: 0.8785\n",
      "Epoch 12/16\n",
      "110288/110288 [==============================] - 40s 365us/step - loss: 0.3958 - acc: 0.8704 - val_loss: 0.3135 - val_acc: 0.8962\n",
      "Epoch 13/16\n",
      "110288/110288 [==============================] - 40s 365us/step - loss: 0.3638 - acc: 0.8832 - val_loss: 0.4386 - val_acc: 0.8739\n",
      "Epoch 14/16\n",
      "110288/110288 [==============================] - 40s 363us/step - loss: 0.3161 - acc: 0.8996 - val_loss: 0.1980 - val_acc: 0.9402\n",
      "Epoch 15/16\n",
      "110288/110288 [==============================] - 40s 364us/step - loss: 0.2689 - acc: 0.9157 - val_loss: 0.1847 - val_acc: 0.9444\n",
      "Epoch 16/16\n",
      "110288/110288 [==============================] - 40s 365us/step - loss: 0.2598 - acc: 0.9206 - val_loss: 0.1679 - val_acc: 0.9497\n"
     ]
    },
    {
     "data": {
      "text/plain": [
       "<keras.callbacks.History at 0x18675d0f240>"
      ]
     },
     "execution_count": 61,
     "metadata": {},
     "output_type": "execute_result"
    }
   ],
   "source": [
    "# Train! I'll use more epochs as we need to fit more parameters:\n",
    "encdec_rnn_model.fit(tmp_x, preproc_french_sentences, batch_size=256, epochs=16, validation_split=0.2)"
   ]
  },
  {
   "cell_type": "markdown",
   "metadata": {},
   "source": [
    "Definitely better! Let's investigate the LSTM vs GRU issue. But first the test phrase:"
   ]
  },
  {
   "cell_type": "code",
   "execution_count": 62,
   "metadata": {},
   "outputs": [
    {
     "name": "stdout",
     "output_type": "stream",
     "text": [
      "new jersey est parfois calme pendant automne et il est est en avril <PAD> <PAD> <PAD> <PAD> <PAD> <PAD> <PAD> <PAD>\n"
     ]
    }
   ],
   "source": [
    "# Print prediction(s)\n",
    "print(logits_to_text(encdec_rnn_model.predict(tmp_x[:1])[0], french_tokenizer))"
   ]
  },
  {
   "cell_type": "code",
   "execution_count": 63,
   "metadata": {},
   "outputs": [],
   "source": [
    "def encdec_model(input_shape, output_sequence_length, english_vocab_size, french_vocab_size):\n",
    "    \"\"\"\n",
    "    Build and train an encoder-decoder model on x and y\n",
    "    :param input_shape: Tuple of input shape\n",
    "    :param output_sequence_length: Length of output sequence\n",
    "    :param english_vocab_size: Number of unique English words in the dataset\n",
    "    :param french_vocab_size: Number of unique French words in the dataset\n",
    "    :return: Keras model built, but not trained\n",
    "    \"\"\"\n",
    "    # Implement\n",
    "    learning_rate = 0.002\n",
    "    \n",
    "    model = Sequential()\n",
    "    \n",
    "    # encoder\n",
    "    model.add(Embedding(english_vocab_size, 128, input_shape = input_shape[1:]))\n",
    "    model.add(LSTM(256, return_sequences = True))\n",
    "    model.add(Dropout(0.2))\n",
    "    model.add(LSTM(256))\n",
    "    model.add(Dropout(0.2))\n",
    "    \n",
    "    # internal representation of the sentence which is transferred from encoder into decoder:\n",
    "    model.add(RepeatVector(output_sequence_length))\n",
    "    \n",
    "    # decoder\n",
    "    model.add(LSTM(256, return_sequences = True))\n",
    "    model.add(Dropout(0.2))\n",
    "    model.add(LSTM(256, return_sequences = True))\n",
    "    model.add(Dropout(0.2))\n",
    "    \n",
    "    model.add(TimeDistributed(Dense(french_vocab_size, activation = 'softmax')))\n",
    "    model.summary()\n",
    "    \n",
    "    model.compile(loss=sparse_categorical_crossentropy,\n",
    "                  optimizer=Adam(learning_rate),\n",
    "                  metrics=['accuracy'])\n",
    "    \n",
    "    \n",
    "    return model"
   ]
  },
  {
   "cell_type": "code",
   "execution_count": 64,
   "metadata": {},
   "outputs": [
    {
     "name": "stdout",
     "output_type": "stream",
     "text": [
      "_________________________________________________________________\n",
      "Layer (type)                 Output Shape              Param #   \n",
      "=================================================================\n",
      "embedding_9 (Embedding)      (None, 21, 128)           25600     \n",
      "_________________________________________________________________\n",
      "lstm_4 (LSTM)                (None, 21, 256)           394240    \n",
      "_________________________________________________________________\n",
      "dropout_18 (Dropout)         (None, 21, 256)           0         \n",
      "_________________________________________________________________\n",
      "lstm_5 (LSTM)                (None, 256)               525312    \n",
      "_________________________________________________________________\n",
      "dropout_19 (Dropout)         (None, 256)               0         \n",
      "_________________________________________________________________\n",
      "repeat_vector_5 (RepeatVecto (None, 21, 256)           0         \n",
      "_________________________________________________________________\n",
      "lstm_6 (LSTM)                (None, 21, 256)           525312    \n",
      "_________________________________________________________________\n",
      "dropout_20 (Dropout)         (None, 21, 256)           0         \n",
      "_________________________________________________________________\n",
      "lstm_7 (LSTM)                (None, 21, 256)           525312    \n",
      "_________________________________________________________________\n",
      "dropout_21 (Dropout)         (None, 21, 256)           0         \n",
      "_________________________________________________________________\n",
      "time_distributed_5 (TimeDist (None, 21, 346)           88922     \n",
      "=================================================================\n",
      "Total params: 2,084,698\n",
      "Trainable params: 2,084,698\n",
      "Non-trainable params: 0\n",
      "_________________________________________________________________\n"
     ]
    }
   ],
   "source": [
    "encdec_rnn_model = encdec_model(\n",
    "    tmp_x.shape,\n",
    "    max_french_sequence_length,\n",
    "    english_vocab_size+1,\n",
    "    french_vocab_size+1)"
   ]
  },
  {
   "cell_type": "code",
   "execution_count": 65,
   "metadata": {},
   "outputs": [
    {
     "name": "stdout",
     "output_type": "stream",
     "text": [
      "Train on 110288 samples, validate on 27573 samples\n",
      "Epoch 1/16\n",
      "110288/110288 [==============================] - 53s 482us/step - loss: 2.4715 - acc: 0.4611 - val_loss: 2.2851 - val_acc: 0.4731\n",
      "Epoch 2/16\n",
      "110288/110288 [==============================] - 49s 448us/step - loss: 2.2216 - acc: 0.4846 - val_loss: 1.7810 - val_acc: 0.5587\n",
      "Epoch 3/16\n",
      "110288/110288 [==============================] - 50s 449us/step - loss: 1.5031 - acc: 0.5900 - val_loss: 1.3462 - val_acc: 0.6124\n",
      "Epoch 4/16\n",
      "110288/110288 [==============================] - 50s 454us/step - loss: 1.3236 - acc: 0.6213 - val_loss: 1.1766 - val_acc: 0.6546\n",
      "Epoch 5/16\n",
      "110288/110288 [==============================] - 50s 450us/step - loss: 1.1660 - acc: 0.6651 - val_loss: 1.0628 - val_acc: 0.6883\n",
      "Epoch 6/16\n",
      "110288/110288 [==============================] - 49s 448us/step - loss: 1.0640 - acc: 0.6888 - val_loss: 0.9882 - val_acc: 0.7055\n",
      "Epoch 7/16\n",
      "110288/110288 [==============================] - 49s 448us/step - loss: 0.9974 - acc: 0.7024 - val_loss: 0.9350 - val_acc: 0.7168\n",
      "Epoch 8/16\n",
      "110288/110288 [==============================] - 50s 449us/step - loss: 0.9264 - acc: 0.7186 - val_loss: 0.8713 - val_acc: 0.7328\n",
      "Epoch 9/16\n",
      "110288/110288 [==============================] - 49s 449us/step - loss: 0.8463 - acc: 0.7367 - val_loss: 0.7813 - val_acc: 0.7537\n",
      "Epoch 10/16\n",
      "110288/110288 [==============================] - 49s 448us/step - loss: 0.7966 - acc: 0.7496 - val_loss: 0.7374 - val_acc: 0.7657\n",
      "Epoch 11/16\n",
      "110288/110288 [==============================] - 50s 450us/step - loss: 0.8694 - acc: 0.7366 - val_loss: 0.7795 - val_acc: 0.7550\n",
      "Epoch 12/16\n",
      "110288/110288 [==============================] - 50s 449us/step - loss: 0.7779 - acc: 0.7550 - val_loss: 0.7047 - val_acc: 0.7718\n",
      "Epoch 13/16\n",
      "110288/110288 [==============================] - 50s 449us/step - loss: 0.7140 - acc: 0.7680 - val_loss: 0.6638 - val_acc: 0.7806\n",
      "Epoch 14/16\n",
      "110288/110288 [==============================] - 50s 450us/step - loss: 0.6892 - acc: 0.7745 - val_loss: 0.6467 - val_acc: 0.7847\n",
      "Epoch 15/16\n",
      "110288/110288 [==============================] - 50s 450us/step - loss: 0.6604 - acc: 0.7820 - val_loss: 0.6111 - val_acc: 0.7966\n",
      "Epoch 16/16\n",
      "110288/110288 [==============================] - 50s 451us/step - loss: 0.6332 - acc: 0.7901 - val_loss: 0.5711 - val_acc: 0.8073\n"
     ]
    },
    {
     "data": {
      "text/plain": [
       "<keras.callbacks.History at 0x1866ee34e48>"
      ]
     },
     "execution_count": 65,
     "metadata": {},
     "output_type": "execute_result"
    }
   ],
   "source": [
    "encdec_rnn_model.fit(tmp_x, preproc_french_sentences, batch_size=256, epochs=16, validation_split=0.2)"
   ]
  },
  {
   "cell_type": "markdown",
   "metadata": {},
   "source": [
    "Interesting! GRU is a very clear winner: validation accuracies were 94% vs 80%"
   ]
  },
  {
   "cell_type": "markdown",
   "metadata": {},
   "source": [
    "When I did a previous translation project (using \"raw\" tensorflow), I reached the validation accuracy of 97% using an encoder - decoder model with 3 layers in encoder and 3 layers in decoder (256 units each, dopout rate = 0.5):\n",
    "\n",
    "https://github.com/lzrdGreen/Translation-Project-4-Deep-Learning-Foundation"
   ]
  },
  {
   "cell_type": "markdown",
   "metadata": {},
   "source": [
    "However in Keras implementation, I couldn't reach better accuracy in three layer decoder/ encoder model with LSTM or GRU cells. This is not clear why. Probably \"under the hood\" there is some significant discrepancy between the two implementations. This issue deserves further investigation, but I am not going t do it right now."
   ]
  },
  {
   "cell_type": "markdown",
   "metadata": {},
   "source": [
    "Instead, let's put everything together:"
   ]
  },
  {
   "cell_type": "markdown",
   "metadata": {},
   "source": [
    "### Model 5: Custom (IMPLEMENTATION)\n",
    "Use everything you learned from the previous models to create a model that incorporates embedding and a bidirectional rnn into one model."
   ]
  },
  {
   "cell_type": "code",
   "execution_count": 66,
   "metadata": {},
   "outputs": [],
   "source": [
    "def model_final(input_shape, output_sequence_length, english_vocab_size, french_vocab_size):\n",
    "    \"\"\"\n",
    "    Build and train a model that incorporates embedding, encoder-decoder, and bidirectional RNN on x and y\n",
    "    :param input_shape: Tuple of input shape\n",
    "    :param output_sequence_length: Length of output sequence\n",
    "    :param english_vocab_size: Number of unique English words in the dataset\n",
    "    :param french_vocab_size: Number of unique French words in the dataset\n",
    "    :return: Keras model built, but not trained\n",
    "    \"\"\"\n",
    "    # TODO: Implement\n",
    "    learning_rate = 0.002\n",
    "    \n",
    "    model = Sequential()\n",
    "    \n",
    "    # encoder\n",
    "    model.add(Embedding(english_vocab_size, 128, input_shape = input_shape[1:]))\n",
    "    model.add(Bidirectional(LSTM(256)))\n",
    "    model.add(Dropout(0.2))\n",
    "    \n",
    "    model.add(RepeatVector(output_sequence_length))\n",
    "    \n",
    "    # decoder\n",
    "    model.add(Bidirectional(LSTM(256, return_sequences = True)))\n",
    "    model.add(Dropout(0.2))\n",
    "    model.add(TimeDistributed(Dense(french_vocab_size, activation = 'softmax')))\n",
    "    model.summary()\n",
    "    \n",
    "    model.compile(loss=sparse_categorical_crossentropy,\n",
    "                  optimizer=Adam(learning_rate),\n",
    "                  metrics=['accuracy'])\n",
    "    \n",
    "    \n",
    "    return model\n",
    "\n",
    "#tests.test_model_final(model_final)"
   ]
  },
  {
   "cell_type": "code",
   "execution_count": 67,
   "metadata": {},
   "outputs": [],
   "source": [
    "from project_tests import test_model_final"
   ]
  },
  {
   "cell_type": "code",
   "execution_count": 68,
   "metadata": {},
   "outputs": [
    {
     "name": "stdout",
     "output_type": "stream",
     "text": [
      "_________________________________________________________________\n",
      "Layer (type)                 Output Shape              Param #   \n",
      "=================================================================\n",
      "embedding_10 (Embedding)     (None, 15, 128)           25472     \n",
      "_________________________________________________________________\n",
      "bidirectional_6 (Bidirection (None, 512)               788480    \n",
      "_________________________________________________________________\n",
      "dropout_22 (Dropout)         (None, 512)               0         \n",
      "_________________________________________________________________\n",
      "repeat_vector_6 (RepeatVecto (None, 21, 512)           0         \n",
      "_________________________________________________________________\n",
      "bidirectional_7 (Bidirection (None, 21, 512)           1574912   \n",
      "_________________________________________________________________\n",
      "dropout_23 (Dropout)         (None, 21, 512)           0         \n",
      "_________________________________________________________________\n",
      "time_distributed_6 (TimeDist (None, 21, 344)           176472    \n",
      "=================================================================\n",
      "Total params: 2,565,336\n",
      "Trainable params: 2,565,336\n",
      "Non-trainable params: 0\n",
      "_________________________________________________________________\n"
     ]
    }
   ],
   "source": [
    "test_model_final(model_final)"
   ]
  },
  {
   "cell_type": "code",
   "execution_count": 69,
   "metadata": {},
   "outputs": [
    {
     "name": "stdout",
     "output_type": "stream",
     "text": [
      "_________________________________________________________________\n",
      "Layer (type)                 Output Shape              Param #   \n",
      "=================================================================\n",
      "embedding_11 (Embedding)     (None, 21, 128)           25600     \n",
      "_________________________________________________________________\n",
      "bidirectional_8 (Bidirection (None, 512)               788480    \n",
      "_________________________________________________________________\n",
      "dropout_24 (Dropout)         (None, 512)               0         \n",
      "_________________________________________________________________\n",
      "repeat_vector_7 (RepeatVecto (None, 21, 512)           0         \n",
      "_________________________________________________________________\n",
      "bidirectional_9 (Bidirection (None, 21, 512)           1574912   \n",
      "_________________________________________________________________\n",
      "dropout_25 (Dropout)         (None, 21, 512)           0         \n",
      "_________________________________________________________________\n",
      "time_distributed_7 (TimeDist (None, 21, 346)           177498    \n",
      "=================================================================\n",
      "Total params: 2,566,490\n",
      "Trainable params: 2,566,490\n",
      "Non-trainable params: 0\n",
      "_________________________________________________________________\n"
     ]
    }
   ],
   "source": [
    "final_rnn_model = model_final(\n",
    "    tmp_x.shape,\n",
    "    max_french_sequence_length,\n",
    "    english_vocab_size+1,\n",
    "    french_vocab_size+1)"
   ]
  },
  {
   "cell_type": "code",
   "execution_count": 70,
   "metadata": {},
   "outputs": [
    {
     "name": "stdout",
     "output_type": "stream",
     "text": [
      "Train on 110288 samples, validate on 27573 samples\n",
      "Epoch 1/16\n",
      "110288/110288 [==============================] - 54s 492us/step - loss: 1.5549 - acc: 0.6138 - val_loss: 0.9000 - val_acc: 0.7373\n",
      "Epoch 2/16\n",
      "110288/110288 [==============================] - 50s 449us/step - loss: 0.7238 - acc: 0.7823 - val_loss: 0.4724 - val_acc: 0.8563\n",
      "Epoch 3/16\n",
      "110288/110288 [==============================] - 49s 449us/step - loss: 0.4030 - acc: 0.8758 - val_loss: 0.2553 - val_acc: 0.9240\n",
      "Epoch 4/16\n",
      "110288/110288 [==============================] - 49s 447us/step - loss: 0.2509 - acc: 0.9237 - val_loss: 0.1879 - val_acc: 0.9418\n",
      "Epoch 5/16\n",
      "110288/110288 [==============================] - 49s 447us/step - loss: 0.1885 - acc: 0.9423 - val_loss: 0.1363 - val_acc: 0.9578\n",
      "Epoch 6/16\n",
      "110288/110288 [==============================] - 49s 449us/step - loss: 0.1532 - acc: 0.9525 - val_loss: 0.1163 - val_acc: 0.9634\n",
      "Epoch 7/16\n",
      "110288/110288 [==============================] - 49s 448us/step - loss: 0.1311 - acc: 0.9594 - val_loss: 0.1024 - val_acc: 0.9680\n",
      "Epoch 8/16\n",
      "110288/110288 [==============================] - 50s 451us/step - loss: 0.1129 - acc: 0.9649 - val_loss: 0.0885 - val_acc: 0.9724\n",
      "Epoch 9/16\n",
      "110288/110288 [==============================] - 50s 449us/step - loss: 0.1003 - acc: 0.9689 - val_loss: 0.0819 - val_acc: 0.9748\n",
      "Epoch 10/16\n",
      "110288/110288 [==============================] - 50s 450us/step - loss: 0.0865 - acc: 0.9732 - val_loss: 0.0714 - val_acc: 0.9783\n",
      "Epoch 11/16\n",
      "110288/110288 [==============================] - 50s 449us/step - loss: 0.0784 - acc: 0.9757 - val_loss: 0.0687 - val_acc: 0.9790\n",
      "Epoch 12/16\n",
      "110288/110288 [==============================] - 50s 453us/step - loss: 0.0746 - acc: 0.9769 - val_loss: 0.0664 - val_acc: 0.9802\n",
      "Epoch 13/16\n",
      "110288/110288 [==============================] - 50s 455us/step - loss: 0.0706 - acc: 0.9785 - val_loss: 0.0663 - val_acc: 0.9795\n",
      "Epoch 14/16\n",
      "110288/110288 [==============================] - 50s 452us/step - loss: 0.0618 - acc: 0.9809 - val_loss: 0.0564 - val_acc: 0.9827\n",
      "Epoch 15/16\n",
      "110288/110288 [==============================] - 50s 454us/step - loss: 0.0567 - acc: 0.9824 - val_loss: 0.0610 - val_acc: 0.9818\n",
      "Epoch 16/16\n",
      "110288/110288 [==============================] - 50s 456us/step - loss: 0.0546 - acc: 0.9832 - val_loss: 0.0586 - val_acc: 0.9827\n"
     ]
    },
    {
     "data": {
      "text/plain": [
       "<keras.callbacks.History at 0x1868a7f6be0>"
      ]
     },
     "execution_count": 70,
     "metadata": {},
     "output_type": "execute_result"
    }
   ],
   "source": [
    "final_rnn_model.fit(tmp_x, preproc_french_sentences, batch_size=256, epochs=16, validation_split=0.2)"
   ]
  },
  {
   "cell_type": "markdown",
   "metadata": {},
   "source": [
    "OK. The validation accuracy is over 98%. Is there any room for improvement? Let's make the encoder more complicated (add one more RNN layer, I mean):"
   ]
  },
  {
   "cell_type": "code",
   "execution_count": 71,
   "metadata": {},
   "outputs": [],
   "source": [
    "def model_final2A(input_shape, output_sequence_length, english_vocab_size, french_vocab_size):\n",
    "    \"\"\"\n",
    "    Build and train a model that incorporates embedding, encoder-decoder, and bidirectional RNN on x and y\n",
    "    :param input_shape: Tuple of input shape\n",
    "    :param output_sequence_length: Length of output sequence\n",
    "    :param english_vocab_size: Number of unique English words in the dataset\n",
    "    :param french_vocab_size: Number of unique French words in the dataset\n",
    "    :return: Keras model built, but not trained\n",
    "    \"\"\"\n",
    "    # TODO: Implement\n",
    "    learning_rate = 0.002\n",
    "    \n",
    "    model = Sequential()\n",
    "    \n",
    "    # encoder\n",
    "    model.add(Embedding(english_vocab_size, 128, input_shape = input_shape[1:]))\n",
    "    model.add(Bidirectional(LSTM(256, return_sequences = True)))\n",
    "    model.add(Dropout(0.2))\n",
    "    model.add(Bidirectional(LSTM(256)))\n",
    "    model.add(Dropout(0.2))\n",
    "    \n",
    "    model.add(RepeatVector(output_sequence_length))\n",
    "    \n",
    "    # decoder\n",
    "    model.add(Bidirectional(LSTM(256, return_sequences = True)))\n",
    "    model.add(Dropout(0.2))\n",
    "    model.add(TimeDistributed(Dense(french_vocab_size, activation = 'softmax')))\n",
    "    model.summary()\n",
    "    \n",
    "    model.compile(loss=sparse_categorical_crossentropy,\n",
    "                  optimizer=Adam(learning_rate),\n",
    "                  metrics=['accuracy'])\n",
    "    \n",
    "    \n",
    "    return model"
   ]
  },
  {
   "cell_type": "code",
   "execution_count": 72,
   "metadata": {},
   "outputs": [
    {
     "name": "stdout",
     "output_type": "stream",
     "text": [
      "_________________________________________________________________\n",
      "Layer (type)                 Output Shape              Param #   \n",
      "=================================================================\n",
      "embedding_12 (Embedding)     (None, 21, 128)           25600     \n",
      "_________________________________________________________________\n",
      "bidirectional_10 (Bidirectio (None, 21, 512)           788480    \n",
      "_________________________________________________________________\n",
      "dropout_26 (Dropout)         (None, 21, 512)           0         \n",
      "_________________________________________________________________\n",
      "bidirectional_11 (Bidirectio (None, 512)               1574912   \n",
      "_________________________________________________________________\n",
      "dropout_27 (Dropout)         (None, 512)               0         \n",
      "_________________________________________________________________\n",
      "repeat_vector_8 (RepeatVecto (None, 21, 512)           0         \n",
      "_________________________________________________________________\n",
      "bidirectional_12 (Bidirectio (None, 21, 512)           1574912   \n",
      "_________________________________________________________________\n",
      "dropout_28 (Dropout)         (None, 21, 512)           0         \n",
      "_________________________________________________________________\n",
      "time_distributed_8 (TimeDist (None, 21, 346)           177498    \n",
      "=================================================================\n",
      "Total params: 4,141,402\n",
      "Trainable params: 4,141,402\n",
      "Non-trainable params: 0\n",
      "_________________________________________________________________\n"
     ]
    }
   ],
   "source": [
    "final2A_rnn_model = model_final2A(\n",
    "    tmp_x.shape,\n",
    "    max_french_sequence_length,\n",
    "    english_vocab_size+1,\n",
    "    french_vocab_size+1)"
   ]
  },
  {
   "cell_type": "markdown",
   "metadata": {},
   "source": [
    "Just look at that! Four milllion tuning parameters! Overfitting must be an issue (as well as the training time), but let's move on"
   ]
  },
  {
   "cell_type": "code",
   "execution_count": 73,
   "metadata": {},
   "outputs": [
    {
     "name": "stdout",
     "output_type": "stream",
     "text": [
      "Train on 110288 samples, validate on 27573 samples\n",
      "Epoch 1/16\n",
      "110288/110288 [==============================] - 77s 695us/step - loss: 1.5615 - acc: 0.6097 - val_loss: 0.9219 - val_acc: 0.7274\n",
      "Epoch 2/16\n",
      "110288/110288 [==============================] - 71s 645us/step - loss: 0.7441 - acc: 0.7767 - val_loss: 0.5161 - val_acc: 0.8433\n",
      "Epoch 3/16\n",
      "110288/110288 [==============================] - 71s 647us/step - loss: 0.4249 - acc: 0.8696 - val_loss: 0.2997 - val_acc: 0.9106\n",
      "Epoch 4/16\n",
      "110288/110288 [==============================] - 71s 647us/step - loss: 0.2680 - acc: 0.9189 - val_loss: 0.1889 - val_acc: 0.9427\n",
      "Epoch 5/16\n",
      "110288/110288 [==============================] - 81s 734us/step - loss: 0.1953 - acc: 0.9409 - val_loss: 0.1293 - val_acc: 0.9609\n",
      "Epoch 6/16\n",
      "110288/110288 [==============================] - 72s 649us/step - loss: 0.1514 - acc: 0.9538 - val_loss: 0.1167 - val_acc: 0.9643\n",
      "Epoch 7/16\n",
      "110288/110288 [==============================] - 71s 646us/step - loss: 0.1332 - acc: 0.9591 - val_loss: 0.1234 - val_acc: 0.9654\n",
      "Epoch 8/16\n",
      "110288/110288 [==============================] - 71s 646us/step - loss: 0.1107 - acc: 0.9661 - val_loss: 0.0906 - val_acc: 0.9724\n",
      "Epoch 9/16\n",
      "110288/110288 [==============================] - 71s 645us/step - loss: 0.0991 - acc: 0.9697 - val_loss: 0.0789 - val_acc: 0.9757\n",
      "Epoch 10/16\n",
      "110288/110288 [==============================] - 71s 647us/step - loss: 0.0879 - acc: 0.9730 - val_loss: 0.0742 - val_acc: 0.9774\n",
      "Epoch 11/16\n",
      "110288/110288 [==============================] - 72s 657us/step - loss: 0.0758 - acc: 0.9765 - val_loss: 0.0678 - val_acc: 0.9791\n",
      "Epoch 12/16\n",
      "110288/110288 [==============================] - 72s 657us/step - loss: 0.0707 - acc: 0.9784 - val_loss: 0.0604 - val_acc: 0.9822\n",
      "Epoch 13/16\n",
      "110288/110288 [==============================] - 73s 659us/step - loss: 0.0676 - acc: 0.9794 - val_loss: 0.0624 - val_acc: 0.9816\n",
      "Epoch 14/16\n",
      "110288/110288 [==============================] - 73s 663us/step - loss: 0.0615 - acc: 0.9811 - val_loss: 0.0648 - val_acc: 0.9816\n",
      "Epoch 15/16\n",
      "110288/110288 [==============================] - 72s 657us/step - loss: 0.0549 - acc: 0.9832 - val_loss: 0.0589 - val_acc: 0.9831\n",
      "Epoch 16/16\n",
      "110288/110288 [==============================] - 73s 663us/step - loss: 0.0536 - acc: 0.9837 - val_loss: 0.0679 - val_acc: 0.9821\n"
     ]
    },
    {
     "data": {
      "text/plain": [
       "<keras.callbacks.History at 0x186944bceb8>"
      ]
     },
     "execution_count": 73,
     "metadata": {},
     "output_type": "execute_result"
    }
   ],
   "source": [
    "final2A_rnn_model.fit(tmp_x, preproc_french_sentences, batch_size=256, epochs=16, validation_split=0.2)"
   ]
  },
  {
   "cell_type": "markdown",
   "metadata": {},
   "source": [
    "val_acc = 98.21% is no better than one layer model's val_acc = 98.27%. So additional RNN layer in the encoder maked no difference. Maybe GRU instead of LSTM helps?"
   ]
  },
  {
   "cell_type": "code",
   "execution_count": 74,
   "metadata": {},
   "outputs": [],
   "source": [
    "# one layer GRU\n",
    "def model_final1(input_shape, output_sequence_length, english_vocab_size, french_vocab_size):\n",
    "    \"\"\"\n",
    "    Build and train a model that incorporates embedding, encoder-decoder, and bidirectional RNN on x and y\n",
    "    :param input_shape: Tuple of input shape\n",
    "    :param output_sequence_length: Length of output sequence\n",
    "    :param english_vocab_size: Number of unique English words in the dataset\n",
    "    :param french_vocab_size: Number of unique French words in the dataset\n",
    "    :return: Keras model built, but not trained\n",
    "    \"\"\"\n",
    "    # TODO: Implement\n",
    "    learning_rate = 0.002\n",
    "    \n",
    "    model = Sequential()\n",
    "    \n",
    "    # encoder\n",
    "    model.add(Embedding(english_vocab_size, 128, input_shape = input_shape[1:]))\n",
    "    model.add(Bidirectional(GRU(256)))\n",
    "    model.add(Dropout(0.2))\n",
    "    \n",
    "    model.add(RepeatVector(output_sequence_length))\n",
    "    \n",
    "    # decoder\n",
    "    model.add(Bidirectional(GRU(256, return_sequences = True)))\n",
    "    model.add(Dropout(0.2))\n",
    "    model.add(TimeDistributed(Dense(french_vocab_size, activation = 'softmax')))\n",
    "    model.summary()\n",
    "    \n",
    "    model.compile(loss=sparse_categorical_crossentropy,\n",
    "                  optimizer=Adam(learning_rate),\n",
    "                  metrics=['accuracy'])\n",
    "    \n",
    "    \n",
    "    return model"
   ]
  },
  {
   "cell_type": "code",
   "execution_count": 75,
   "metadata": {},
   "outputs": [
    {
     "name": "stdout",
     "output_type": "stream",
     "text": [
      "_________________________________________________________________\n",
      "Layer (type)                 Output Shape              Param #   \n",
      "=================================================================\n",
      "embedding_13 (Embedding)     (None, 21, 128)           25600     \n",
      "_________________________________________________________________\n",
      "bidirectional_13 (Bidirectio (None, 512)               591360    \n",
      "_________________________________________________________________\n",
      "dropout_29 (Dropout)         (None, 512)               0         \n",
      "_________________________________________________________________\n",
      "repeat_vector_9 (RepeatVecto (None, 21, 512)           0         \n",
      "_________________________________________________________________\n",
      "bidirectional_14 (Bidirectio (None, 21, 512)           1181184   \n",
      "_________________________________________________________________\n",
      "dropout_30 (Dropout)         (None, 21, 512)           0         \n",
      "_________________________________________________________________\n",
      "time_distributed_9 (TimeDist (None, 21, 346)           177498    \n",
      "=================================================================\n",
      "Total params: 1,975,642\n",
      "Trainable params: 1,975,642\n",
      "Non-trainable params: 0\n",
      "_________________________________________________________________\n"
     ]
    }
   ],
   "source": [
    "final1_rnn_model = model_final1(\n",
    "    tmp_x.shape,\n",
    "    max_french_sequence_length,\n",
    "    english_vocab_size+1,\n",
    "    french_vocab_size+1)"
   ]
  },
  {
   "cell_type": "code",
   "execution_count": 76,
   "metadata": {},
   "outputs": [
    {
     "name": "stdout",
     "output_type": "stream",
     "text": [
      "Train on 110288 samples, validate on 27573 samples\n",
      "Epoch 1/16\n",
      "110288/110288 [==============================] - 44s 402us/step - loss: 1.4874 - acc: 0.6258 - val_loss: 0.8562 - val_acc: 0.7452\n",
      "Epoch 2/16\n",
      "110288/110288 [==============================] - 41s 369us/step - loss: 0.6885 - acc: 0.7910 - val_loss: 0.4370 - val_acc: 0.8640\n",
      "Epoch 3/16\n",
      "110288/110288 [==============================] - 41s 368us/step - loss: 0.3677 - acc: 0.8873 - val_loss: 0.2319 - val_acc: 0.9309\n",
      "Epoch 4/16\n",
      "110288/110288 [==============================] - 40s 367us/step - loss: 0.2337 - acc: 0.9293 - val_loss: 0.1580 - val_acc: 0.9520\n",
      "Epoch 5/16\n",
      "110288/110288 [==============================] - 41s 369us/step - loss: 0.1756 - acc: 0.9465 - val_loss: 0.1321 - val_acc: 0.9597\n",
      "Epoch 6/16\n",
      "110288/110288 [==============================] - 41s 368us/step - loss: 0.1495 - acc: 0.9547 - val_loss: 0.1134 - val_acc: 0.9650\n",
      "Epoch 7/16\n",
      "110288/110288 [==============================] - 41s 369us/step - loss: 0.1254 - acc: 0.9619 - val_loss: 0.0973 - val_acc: 0.9705\n",
      "Epoch 8/16\n",
      "110288/110288 [==============================] - 41s 368us/step - loss: 0.1131 - acc: 0.9658 - val_loss: 0.0903 - val_acc: 0.9731\n",
      "Epoch 9/16\n",
      "110288/110288 [==============================] - 41s 368us/step - loss: 0.0995 - acc: 0.9700 - val_loss: 0.0857 - val_acc: 0.9747\n",
      "Epoch 10/16\n",
      "110288/110288 [==============================] - 41s 370us/step - loss: 0.0975 - acc: 0.9709 - val_loss: 0.0852 - val_acc: 0.9756\n",
      "Epoch 11/16\n",
      "110288/110288 [==============================] - 41s 369us/step - loss: 0.0947 - acc: 0.9719 - val_loss: 0.0908 - val_acc: 0.9736\n",
      "Epoch 12/16\n",
      "110288/110288 [==============================] - 41s 369us/step - loss: 0.0822 - acc: 0.9754 - val_loss: 0.0727 - val_acc: 0.9787\n",
      "Epoch 13/16\n",
      "110288/110288 [==============================] - 41s 369us/step - loss: 0.0785 - acc: 0.9767 - val_loss: 0.0708 - val_acc: 0.9793\n",
      "Epoch 14/16\n",
      "110288/110288 [==============================] - 41s 371us/step - loss: 0.0713 - acc: 0.9790 - val_loss: 0.0684 - val_acc: 0.9804\n",
      "Epoch 15/16\n",
      "110288/110288 [==============================] - 41s 369us/step - loss: 0.0720 - acc: 0.9787 - val_loss: 0.0657 - val_acc: 0.9819\n",
      "Epoch 16/16\n",
      "110288/110288 [==============================] - 41s 368us/step - loss: 0.0699 - acc: 0.9794 - val_loss: 0.0697 - val_acc: 0.9805\n"
     ]
    },
    {
     "data": {
      "text/plain": [
       "<keras.callbacks.History at 0x1869fe7d588>"
      ]
     },
     "execution_count": 76,
     "metadata": {},
     "output_type": "execute_result"
    }
   ],
   "source": [
    "final1_rnn_model.fit(tmp_x, preproc_french_sentences, batch_size=256, epochs=16, validation_split=0.2)"
   ]
  },
  {
   "cell_type": "markdown",
   "metadata": {},
   "source": [
    "val_acc just marginally lower , but very little difference indeed. For completeness, 2 layer GRU encoder:"
   ]
  },
  {
   "cell_type": "code",
   "execution_count": 77,
   "metadata": {},
   "outputs": [],
   "source": [
    "def model_final2B(input_shape, output_sequence_length, english_vocab_size, french_vocab_size):\n",
    "    \"\"\"\n",
    "    Build and train a model that incorporates embedding, encoder-decoder, and bidirectional RNN on x and y\n",
    "    :param input_shape: Tuple of input shape\n",
    "    :param output_sequence_length: Length of output sequence\n",
    "    :param english_vocab_size: Number of unique English words in the dataset\n",
    "    :param french_vocab_size: Number of unique French words in the dataset\n",
    "    :return: Keras model built, but not trained\n",
    "    \"\"\"\n",
    "    # TODO: Implement\n",
    "    learning_rate = 0.002\n",
    "    \n",
    "    model = Sequential()\n",
    "    \n",
    "    # encoder\n",
    "    model.add(Embedding(english_vocab_size, 128, input_shape = input_shape[1:]))\n",
    "    model.add(Bidirectional(GRU(256, return_sequences = True)))\n",
    "    model.add(Dropout(0.2))\n",
    "    model.add(Bidirectional(GRU(256)))\n",
    "    model.add(Dropout(0.2))\n",
    "    \n",
    "    model.add(RepeatVector(output_sequence_length))\n",
    "    \n",
    "    # decoder\n",
    "    model.add(Bidirectional(GRU(256, return_sequences = True)))\n",
    "    model.add(Dropout(0.2))\n",
    "    model.add(TimeDistributed(Dense(french_vocab_size, activation = 'softmax')))\n",
    "    model.summary()\n",
    "    \n",
    "    model.compile(loss=sparse_categorical_crossentropy,\n",
    "                  optimizer=Adam(learning_rate),\n",
    "                  metrics=['accuracy'])\n",
    "    \n",
    "    \n",
    "    return model"
   ]
  },
  {
   "cell_type": "code",
   "execution_count": 78,
   "metadata": {},
   "outputs": [
    {
     "name": "stdout",
     "output_type": "stream",
     "text": [
      "_________________________________________________________________\n",
      "Layer (type)                 Output Shape              Param #   \n",
      "=================================================================\n",
      "embedding_14 (Embedding)     (None, 21, 128)           25600     \n",
      "_________________________________________________________________\n",
      "bidirectional_15 (Bidirectio (None, 21, 512)           591360    \n",
      "_________________________________________________________________\n",
      "dropout_31 (Dropout)         (None, 21, 512)           0         \n",
      "_________________________________________________________________\n",
      "bidirectional_16 (Bidirectio (None, 512)               1181184   \n",
      "_________________________________________________________________\n",
      "dropout_32 (Dropout)         (None, 512)               0         \n",
      "_________________________________________________________________\n",
      "repeat_vector_10 (RepeatVect (None, 21, 512)           0         \n",
      "_________________________________________________________________\n",
      "bidirectional_17 (Bidirectio (None, 21, 512)           1181184   \n",
      "_________________________________________________________________\n",
      "dropout_33 (Dropout)         (None, 21, 512)           0         \n",
      "_________________________________________________________________\n",
      "time_distributed_10 (TimeDis (None, 21, 346)           177498    \n",
      "=================================================================\n",
      "Total params: 3,156,826\n",
      "Trainable params: 3,156,826\n",
      "Non-trainable params: 0\n",
      "_________________________________________________________________\n"
     ]
    }
   ],
   "source": [
    "final2B_rnn_model = model_final2B(\n",
    "    tmp_x.shape,\n",
    "    max_french_sequence_length,\n",
    "    english_vocab_size+1,\n",
    "    french_vocab_size+1)"
   ]
  },
  {
   "cell_type": "code",
   "execution_count": 79,
   "metadata": {},
   "outputs": [
    {
     "name": "stdout",
     "output_type": "stream",
     "text": [
      "Train on 110288 samples, validate on 27573 samples\n",
      "Epoch 1/16\n",
      "110288/110288 [==============================] - 64s 580us/step - loss: 1.5302 - acc: 0.6214 - val_loss: 0.8909 - val_acc: 0.7435\n",
      "Epoch 2/16\n",
      "110288/110288 [==============================] - 60s 546us/step - loss: 0.6721 - acc: 0.8002 - val_loss: 0.3890 - val_acc: 0.8858\n",
      "Epoch 3/16\n",
      "110288/110288 [==============================] - 59s 539us/step - loss: 0.3471 - acc: 0.8967 - val_loss: 0.1939 - val_acc: 0.9445\n",
      "Epoch 4/16\n",
      "110288/110288 [==============================] - 59s 535us/step - loss: 0.2358 - acc: 0.9307 - val_loss: 0.1555 - val_acc: 0.9541\n",
      "Epoch 5/16\n",
      "110288/110288 [==============================] - 59s 536us/step - loss: 0.1798 - acc: 0.9470 - val_loss: 0.1206 - val_acc: 0.9645\n",
      "Epoch 6/16\n",
      "110288/110288 [==============================] - 59s 537us/step - loss: 0.1452 - acc: 0.9573 - val_loss: 0.1075 - val_acc: 0.9677\n",
      "Epoch 7/16\n",
      "110288/110288 [==============================] - 59s 536us/step - loss: 0.1387 - acc: 0.9593 - val_loss: 0.0972 - val_acc: 0.9718\n",
      "Epoch 8/16\n",
      "110288/110288 [==============================] - 59s 537us/step - loss: 0.1192 - acc: 0.9650 - val_loss: 0.0956 - val_acc: 0.9720\n",
      "Epoch 9/16\n",
      "110288/110288 [==============================] - 59s 536us/step - loss: 0.1108 - acc: 0.9677 - val_loss: 0.0877 - val_acc: 0.9743\n",
      "Epoch 10/16\n",
      "110288/110288 [==============================] - 60s 542us/step - loss: 0.1150 - acc: 0.9668 - val_loss: 0.0881 - val_acc: 0.9750\n",
      "Epoch 11/16\n",
      "110288/110288 [==============================] - 59s 537us/step - loss: 0.0991 - acc: 0.9711 - val_loss: 0.0775 - val_acc: 0.9784\n",
      "Epoch 12/16\n",
      "110288/110288 [==============================] - 59s 538us/step - loss: 0.0971 - acc: 0.9715 - val_loss: 0.0864 - val_acc: 0.9763\n",
      "Epoch 13/16\n",
      "110288/110288 [==============================] - 59s 536us/step - loss: 0.0920 - acc: 0.9733 - val_loss: 0.0803 - val_acc: 0.9779\n",
      "Epoch 14/16\n",
      "110288/110288 [==============================] - 59s 538us/step - loss: 0.0992 - acc: 0.9715 - val_loss: 0.0812 - val_acc: 0.9779\n",
      "Epoch 15/16\n",
      "110288/110288 [==============================] - 59s 537us/step - loss: 0.1032 - acc: 0.9704 - val_loss: 0.0959 - val_acc: 0.9721\n",
      "Epoch 16/16\n",
      "110288/110288 [==============================] - 59s 537us/step - loss: 0.0911 - acc: 0.9736 - val_loss: 0.0722 - val_acc: 0.9807\n"
     ]
    },
    {
     "data": {
      "text/plain": [
       "<keras.callbacks.History at 0x186a08a5550>"
      ]
     },
     "execution_count": 79,
     "metadata": {},
     "output_type": "execute_result"
    }
   ],
   "source": [
    "final2B_rnn_model.fit(tmp_x, preproc_french_sentences, batch_size=256, epochs=16, validation_split=0.2)"
   ]
  },
  {
   "cell_type": "markdown",
   "metadata": {},
   "source": [
    "Virtually no difference"
   ]
  },
  {
   "cell_type": "markdown",
   "metadata": {},
   "source": [
    "Now let's look at the test phrase:"
   ]
  },
  {
   "cell_type": "code",
   "execution_count": 80,
   "metadata": {},
   "outputs": [
    {
     "name": "stdout",
     "output_type": "stream",
     "text": [
      "new jersey est parfois calme pendant l' automne et il est neigeux en avril <PAD> <PAD> <PAD> <PAD> <PAD> <PAD> <PAD>\n"
     ]
    }
   ],
   "source": [
    "print(logits_to_text(final_rnn_model.predict(tmp_x[:1])[0], french_tokenizer))"
   ]
  },
  {
   "cell_type": "code",
   "execution_count": 81,
   "metadata": {},
   "outputs": [
    {
     "name": "stdout",
     "output_type": "stream",
     "text": [
      "new jersey est parfois calme pendant l' automne et il est neigeux en avril <PAD> <PAD> <PAD> <PAD> <PAD> <PAD> <PAD>\n"
     ]
    }
   ],
   "source": [
    "print(logits_to_text(final1_rnn_model.predict(tmp_x[:1])[0], french_tokenizer))"
   ]
  },
  {
   "cell_type": "code",
   "execution_count": 82,
   "metadata": {},
   "outputs": [
    {
     "name": "stdout",
     "output_type": "stream",
     "text": [
      "new jersey est parfois calme pendant l' automne et il est neigeux en avril <PAD> <PAD> <PAD> <PAD> <PAD> <PAD> <PAD>\n"
     ]
    }
   ],
   "source": [
    "print(logits_to_text(final2A_rnn_model.predict(tmp_x[:1])[0], french_tokenizer))"
   ]
  },
  {
   "cell_type": "code",
   "execution_count": 83,
   "metadata": {},
   "outputs": [
    {
     "name": "stdout",
     "output_type": "stream",
     "text": [
      "new jersey est parfois calme pendant l' automne et il est neigeux en avril <PAD> <PAD> <PAD> <PAD> <PAD> <PAD> <PAD>\n"
     ]
    }
   ],
   "source": [
    "print(logits_to_text(final2B_rnn_model.predict(tmp_x[:1])[0], french_tokenizer))"
   ]
  },
  {
   "cell_type": "markdown",
   "metadata": {},
   "source": [
    "No difference again...All four correct. But please keep in mind - the test phrase is from the training data set. Of course, I could play with different parameters of the model (cell size, dropout rate, number of dense layers in the output classifier) but I see very little room for improvement when the validation accuracy is already over 98% with millions of tuning parameters and a tiny training data set (a bit more than 100 th. sentences)."
   ]
  },
  {
   "cell_type": "markdown",
   "metadata": {},
   "source": [
    "## Prediction (IMPLEMENTATION)"
   ]
  },
  {
   "cell_type": "markdown",
   "metadata": {},
   "source": [
    "Possibly I failed to understand the logic of the authors of this notebook why a special function to make a prediction for just 2 sentences (one a new one, the other - the test phrase) is needed. I don't like this suggestion in final_predictions: Train neural network using model_final. As I explained above I've trained everything I wanted already. No need to train anything else...Moreover, the Rubrick doesn't force me to use this function, it just says about the Predictions section: \"The final model correctly predicts both sentences.\" So I'll skip the function all together, but will keep the test for correctness of predictions as close as possible to the function's inside."
   ]
  },
  {
   "cell_type": "code",
   "execution_count": null,
   "metadata": {},
   "outputs": [],
   "source": [
    "#def final_predictions(x, y, x_tk, y_tk):\n",
    "    \"\"\"\n",
    "    Gets predictions using the final model\n",
    "    :param x: Preprocessed English data\n",
    "    :param y: Preprocessed French data\n",
    "    :param x_tk: English tokenizer\n",
    "    :param y_tk: French tokenizer\n",
    "    \"\"\"\n",
    "    # TODO: Train neural network using model_final\n",
    "    model = None\n",
    "\n",
    "    \n",
    "    ## DON'T EDIT ANYTHING BELOW THIS LINE\n",
    "    y_id_to_word = {value: key for key, value in y_tk.word_index.items()}\n",
    "    y_id_to_word[0] = '<PAD>'\n",
    "\n",
    "    sentence = 'he saw a old yellow truck'\n",
    "    sentence = [x_tk.word_index[word] for word in sentence.split()]\n",
    "    sentence = pad_sequences([sentence], maxlen=x.shape[-1], padding='post')\n",
    "    sentences = np.array([sentence[0], x[0]])\n",
    "    predictions = model.predict(sentences, len(sentences))\n",
    "\n",
    "    print('Sample 1:')\n",
    "    print(' '.join([y_id_to_word[np.argmax(x)] for x in predictions[0]]))\n",
    "    print('Il a vu un vieux camion jaune')\n",
    "    print('Sample 2:')\n",
    "    print(' '.join([y_id_to_word[np.argmax(x)] for x in predictions[1]]))\n",
    "    print(' '.join([y_id_to_word[np.max(x)] for x in y[0]]))\n",
    "\n",
    "\n",
    "#final_predictions(preproc_english_sentences, preproc_french_sentences, english_tokenizer, french_tokenizer)"
   ]
  },
  {
   "cell_type": "code",
   "execution_count": 84,
   "metadata": {},
   "outputs": [],
   "source": [
    "y_tk = french_tokenizer\n",
    "\n",
    "y_id_to_word = {value: key for key, value in y_tk.word_index.items()}\n",
    "y_id_to_word[0] = '<PAD>'\n",
    "\n",
    "x_tk = english_tokenizer\n",
    "x = preproc_english_sentences\n",
    "\n",
    "sentence = 'he saw a old yellow truck'\n",
    "sentence = [x_tk.word_index[word] for word in sentence.split()]\n",
    "sentence = pad_sequences([sentence], maxlen=x.shape[-1], padding='post')\n",
    "sentences = np.array([sentence[0], x[0]])"
   ]
  },
  {
   "cell_type": "code",
   "execution_count": 85,
   "metadata": {},
   "outputs": [
    {
     "data": {
      "text/plain": [
       "'il a vu un vieux camion jaune <PAD> <PAD> <PAD> <PAD> <PAD> <PAD> <PAD> <PAD> <PAD> <PAD> <PAD> <PAD> <PAD> <PAD>'"
      ]
     },
     "execution_count": 85,
     "metadata": {},
     "output_type": "execute_result"
    }
   ],
   "source": [
    "logits_to_text(final_rnn_model.predict(pad(sentence , max_french_sequence_length))[0], french_tokenizer)"
   ]
  },
  {
   "cell_type": "code",
   "execution_count": 87,
   "metadata": {},
   "outputs": [
    {
     "data": {
      "text/plain": [
       "'il a vu un vieux camion jaune <PAD> <PAD> <PAD> <PAD> <PAD> <PAD> <PAD> <PAD> <PAD> <PAD> <PAD> <PAD> <PAD> <PAD>'"
      ]
     },
     "execution_count": 87,
     "metadata": {},
     "output_type": "execute_result"
    }
   ],
   "source": [
    "logits_to_text(final1_rnn_model.predict(pad(sentence , max_french_sequence_length))[0], french_tokenizer)"
   ]
  },
  {
   "cell_type": "code",
   "execution_count": 88,
   "metadata": {},
   "outputs": [
    {
     "data": {
      "text/plain": [
       "'il a vu un vieux camion jaune <PAD> <PAD> <PAD> <PAD> <PAD> <PAD> <PAD> <PAD> <PAD> <PAD> <PAD> <PAD> <PAD> <PAD>'"
      ]
     },
     "execution_count": 88,
     "metadata": {},
     "output_type": "execute_result"
    }
   ],
   "source": [
    "logits_to_text(final2A_rnn_model.predict(pad(sentence , max_french_sequence_length))[0], french_tokenizer)"
   ]
  },
  {
   "cell_type": "code",
   "execution_count": 89,
   "metadata": {},
   "outputs": [
    {
     "data": {
      "text/plain": [
       "'il a vu un vieux camion jaune <PAD> <PAD> <PAD> <PAD> <PAD> <PAD> <PAD> <PAD> <PAD> <PAD> <PAD> <PAD> <PAD> <PAD>'"
      ]
     },
     "execution_count": 89,
     "metadata": {},
     "output_type": "execute_result"
    }
   ],
   "source": [
    "logits_to_text(final2B_rnn_model.predict(pad(sentence , max_french_sequence_length))[0], french_tokenizer)"
   ]
  },
  {
   "cell_type": "markdown",
   "metadata": {},
   "source": [
    "All four predictions perfectly match the correct translation (padded with empty pads at the end):"
   ]
  },
  {
   "cell_type": "code",
   "execution_count": 90,
   "metadata": {},
   "outputs": [
    {
     "name": "stdout",
     "output_type": "stream",
     "text": [
      "Il a vu un vieux camion jaune\n"
     ]
    }
   ],
   "source": [
    " print('Il a vu un vieux camion jaune')"
   ]
  },
  {
   "cell_type": "markdown",
   "metadata": {},
   "source": [
    "Finally, our old friend, the test phrase (already tested in cells 80-83 to be correct):"
   ]
  },
  {
   "cell_type": "code",
   "execution_count": 92,
   "metadata": {},
   "outputs": [
    {
     "data": {
      "text/plain": [
       "\"new jersey est parfois calme pendant l' automne et il est neigeux en avril <PAD> <PAD> <PAD> <PAD> <PAD> <PAD> <PAD>\""
      ]
     },
     "execution_count": 92,
     "metadata": {},
     "output_type": "execute_result"
    }
   ],
   "source": [
    "logits_to_text(final_rnn_model.predict(pad(sentences , max_french_sequence_length))[1], french_tokenizer)"
   ]
  },
  {
   "cell_type": "code",
   "execution_count": 93,
   "metadata": {},
   "outputs": [
    {
     "data": {
      "text/plain": [
       "\"new jersey est parfois calme pendant l' automne et il est neigeux en avril <PAD> <PAD> <PAD> <PAD> <PAD> <PAD> <PAD>\""
      ]
     },
     "execution_count": 93,
     "metadata": {},
     "output_type": "execute_result"
    }
   ],
   "source": [
    "logits_to_text(final1_rnn_model.predict(pad(sentences , max_french_sequence_length))[1], french_tokenizer)"
   ]
  },
  {
   "cell_type": "code",
   "execution_count": 95,
   "metadata": {},
   "outputs": [
    {
     "data": {
      "text/plain": [
       "\"new jersey est parfois calme pendant l' automne et il est neigeux en avril <PAD> <PAD> <PAD> <PAD> <PAD> <PAD> <PAD>\""
      ]
     },
     "execution_count": 95,
     "metadata": {},
     "output_type": "execute_result"
    }
   ],
   "source": [
    "logits_to_text(final2A_rnn_model.predict(pad(sentences , max_french_sequence_length))[1], french_tokenizer)"
   ]
  },
  {
   "cell_type": "code",
   "execution_count": 96,
   "metadata": {},
   "outputs": [
    {
     "data": {
      "text/plain": [
       "\"new jersey est parfois calme pendant l' automne et il est neigeux en avril <PAD> <PAD> <PAD> <PAD> <PAD> <PAD> <PAD>\""
      ]
     },
     "execution_count": 96,
     "metadata": {},
     "output_type": "execute_result"
    }
   ],
   "source": [
    "logits_to_text(final2B_rnn_model.predict(pad(sentences , max_french_sequence_length))[1], french_tokenizer)"
   ]
  },
  {
   "cell_type": "markdown",
   "metadata": {},
   "source": [
    "The final discussion please see at the very end"
   ]
  },
  {
   "cell_type": "markdown",
   "metadata": {},
   "source": [
    "## Submission\n",
    "When you're ready to submit, complete the following steps:\n",
    "1. Review the [rubric](https://review.udacity.com/#!/rubrics/1004/view) to ensure your submission meets all requirements to pass\n",
    "2. Generate an HTML version of this notebook\n",
    "\n",
    "  - Run the next cell to attempt automatic generation (this is the recommended method in Workspaces)\n",
    "  - Navigate to **FILE -> Download as -> HTML (.html)**\n",
    "  - Manually generate a copy using `nbconvert` from your shell terminal\n",
    "```\n",
    "$ pip install nbconvert\n",
    "$ python -m nbconvert machine_translation.ipynb\n",
    "```\n",
    "  \n",
    "3. Submit the project\n",
    "\n",
    "  - If you are in a Workspace, simply click the \"Submit Project\" button (bottom towards the right)\n",
    "  \n",
    "  - Otherwise, add the following files into a zip archive and submit them \n",
    "  - `helper.py`\n",
    "  - `machine_translation.ipynb`\n",
    "  - `machine_translation.html`\n",
    "    - You can export the notebook by navigating to **File -> Download as -> HTML (.html)**."
   ]
  },
  {
   "cell_type": "code",
   "execution_count": null,
   "metadata": {},
   "outputs": [],
   "source": [
    "!!python -m nbconvert *.ipynb"
   ]
  },
  {
   "cell_type": "markdown",
   "metadata": {},
   "source": [
    "## Optional Enhancements\n",
    "\n",
    "This project focuses on learning various network architectures for machine translation, but we don't evaluate the models according to best practices by splitting the data into separate test & training sets -- so the model accuracy is overstated. Use the [`sklearn.model_selection.train_test_split()`](http://scikit-learn.org/stable/modules/generated/sklearn.model_selection.train_test_split.html) function to create separate training & test datasets, then retrain each of the models using only the training set and evaluate the prediction accuracy using the hold out test set. Does the \"best\" model change?"
   ]
  },
  {
   "cell_type": "markdown",
   "metadata": {},
   "source": [
    "Of course, the actual accuracy of 98% is overstated. To find out the actual accuracy, I'll need a test data set which the models never saw before. That could give me a reasonable assessment of accuracy. Unfortunately the vocabuary used in the training data set was really small (just 199 word - see cell 13)! I tried to \"generate\" my own test set but was stuck at a 5th or 7 th sentence - the vocabulary is way too small. The data set itself is pretty small, so I don't want to make it even smaller by cutting out 25% of it to use as a test set."
   ]
  },
  {
   "cell_type": "markdown",
   "metadata": {},
   "source": [
    "In general, to improve the model the first step must be to use a much larger and diverse training data set. Then I would test various model architectures with fune-tuned parameters. With the data set so small, I think, what was achieved is the reasonable limit."
   ]
  },
  {
   "cell_type": "markdown",
   "metadata": {},
   "source": [
    "The unexpected result was the extremely fast and accurate performance of even the simplest Bidirectional model: it exceed the 95% validation accuracy just after three epochs!"
   ]
  },
  {
   "cell_type": "code",
   "execution_count": null,
   "metadata": {},
   "outputs": [],
   "source": []
  }
 ],
 "metadata": {
  "kernelspec": {
   "display_name": "Python 3",
   "language": "python",
   "name": "python3"
  },
  "language_info": {
   "codemirror_mode": {
    "name": "ipython",
    "version": 3
   },
   "file_extension": ".py",
   "mimetype": "text/x-python",
   "name": "python",
   "nbconvert_exporter": "python",
   "pygments_lexer": "ipython3",
   "version": "3.5.4"
  }
 },
 "nbformat": 4,
 "nbformat_minor": 1
}
